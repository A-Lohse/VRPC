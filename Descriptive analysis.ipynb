{
 "cells": [
  {
   "cell_type": "markdown",
   "id": "2403103d",
   "metadata": {},
   "source": [
    "# This script creates a lot of descriptive plots and analysis based on the cleandata.csv file. There is a bit more analysis than what is presented in the paper. "
   ]
  },
  {
   "cell_type": "code",
   "execution_count": 1,
   "id": "rubber-cowboy",
   "metadata": {},
   "outputs": [],
   "source": [
    "#import packages\n",
    "import pandas as pd\n",
    "import numpy as np\n",
    "from datetime import datetime, timedelta\n",
    "import matplotlib.pyplot as plt\n",
    "import seaborn as sns\n",
    "import statsmodels.formula.api as sm \n",
    "import scipy.stats as stats\n",
    "from stargazer.stargazer import Stargazer, LineLocation\n",
    "import nltk\n",
    "from nltk.corpus import stopwords\n",
    "import lemmy\n",
    "import matplotlib.patches as mpatches\n"
   ]
  },
  {
   "cell_type": "code",
   "execution_count": 2,
   "id": "mysterious-medium",
   "metadata": {},
   "outputs": [],
   "source": [
    "dataset = pd.read_csv(\"data/cleandata.csv\",index_col=\"Unnamed: 0\")\n"
   ]
  },
  {
   "cell_type": "code",
   "execution_count": 3,
   "id": "inclusive-tattoo",
   "metadata": {},
   "outputs": [],
   "source": [
    "plt.rcParams.update({'font.size': 12})\n",
    "plt.rcParams.update({'figure.figsize': (12,8)})\n"
   ]
  },
  {
   "cell_type": "markdown",
   "id": "european-motorcycle",
   "metadata": {},
   "source": [
    "# I begin by making some descriptive stats on the sample that i have \n",
    "THis is on the full dataset minus the ones before the startdate. I first remove the ones without faces when i have to do stats on them. This is just to be able to tell a compelling story of the politicians use of Instagram. "
   ]
  },
  {
   "cell_type": "code",
   "execution_count": 4,
   "id": "b3515952",
   "metadata": {},
   "outputs": [
    {
     "data": {
      "image/png": "[encoded data removed]",
      "text/plain": [
       "<Figure size 345.6x432 with 1 Axes>"
      ]
     },
     "metadata": {
      "needs_background": "light"
     },
     "output_type": "display_data"
    }
   ],
   "source": [
    "\n",
    "bars = sns.catplot(x='n_people', kind='count', data=dataset, alpha = 0.8,edgecolor = \"black\", palette=\"Blues_r\",height=6, aspect=0.8)\n",
    "\n",
    "#plt.annotate(sum(dataset['bloc']==\"r\"),(0,5500), ha='center')\n",
    "#plt.annotate(sum(dataset['bloc']==\"b\"),(1,5100), ha='center')\n",
    "\n",
    "#top_bar = mpatches.Patch(color='red', label='smoker = No')\n",
    "#bottom_bar = mpatches.Patch(color='blue', label='smoker = Yes')\n",
    "#plt.legend(handles=[top_bar, bottom_bar])\n",
    "\n",
    "plt.xlabel(\"Number of people in image\")\n",
    "plt.ylabel(\"Number of posts\")\n",
    "#plt.xticks([0,1],[\"Rød blok\",\"Blå blok\"])\n",
    "#plt.title(\"Number of women in image\")\n",
    "plt.xlim(-0.5,4.5)\n",
    "plt.xticks([0,1,2,3,4],[0,1,2,3,4])\n",
    "\n",
    "plt.savefig(\"plots\\people_in_posts.png\",bbox_inches = \"tight\")\n",
    "\n",
    "plt.show()"
   ]
  },
  {
   "cell_type": "code",
   "execution_count": 5,
   "id": "modern-fishing",
   "metadata": {},
   "outputs": [
    {
     "data": {
      "image/png": "[encoded data removed]",
      "text/plain": [
       "<Figure size 345.6x432 with 1 Axes>"
      ]
     },
     "metadata": {
      "needs_background": "light"
     },
     "output_type": "display_data"
    }
   ],
   "source": [
    "\n",
    "bars = sns.catplot(x='n_women', kind='count', data=dataset, alpha = 0.8,edgecolor = \"black\", palette=\"Blues_r\",height=6, aspect=0.8)\n",
    "\n",
    "#plt.annotate(sum(dataset['bloc']==\"r\"),(0,5500), ha='center')\n",
    "#plt.annotate(sum(dataset['bloc']==\"b\"),(1,5100), ha='center')\n",
    "\n",
    "#top_bar = mpatches.Patch(color='red', label='smoker = No')\n",
    "#bottom_bar = mpatches.Patch(color='blue', label='smoker = Yes')\n",
    "#plt.legend(handles=[top_bar, bottom_bar])\n",
    "\n",
    "plt.xlabel(\"Number of women in image\")\n",
    "plt.ylabel(\"Number of posts\")\n",
    "#plt.xticks([0,1],[\"Rød blok\",\"Blå blok\"])\n",
    "#plt.title(\"Number of women in image\")\n",
    "plt.xlim(-0.5,4.5)\n",
    "plt.xticks([0,1,2,3,4],[0,1,2,3,4])\n",
    "\n",
    "plt.savefig(\"plots\\women_in_posts.png\",bbox_inches = \"tight\")\n",
    "\n",
    "plt.show()"
   ]
  },
  {
   "cell_type": "code",
   "execution_count": 6,
   "id": "c05db70b",
   "metadata": {},
   "outputs": [
    {
     "data": {
      "text/plain": [
       "count    10192.000000\n",
       "mean         0.903846\n",
       "std          0.942554\n",
       "min          0.000000\n",
       "25%          0.000000\n",
       "50%          1.000000\n",
       "75%          1.000000\n",
       "max          4.000000\n",
       "Name: n_people, dtype: float64"
      ]
     },
     "execution_count": 6,
     "metadata": {},
     "output_type": "execute_result"
    }
   ],
   "source": [
    "dataset.n_people.describe()"
   ]
  },
  {
   "cell_type": "code",
   "execution_count": 7,
   "id": "b5ed815e",
   "metadata": {},
   "outputs": [
    {
     "data": {
      "text/plain": [
       "count    10192.000000\n",
       "mean         0.433085\n",
       "std          0.646873\n",
       "min          0.000000\n",
       "25%          0.000000\n",
       "50%          0.000000\n",
       "75%          1.000000\n",
       "max          4.000000\n",
       "Name: n_women, dtype: float64"
      ]
     },
     "execution_count": 7,
     "metadata": {},
     "output_type": "execute_result"
    }
   ],
   "source": [
    "dataset.n_women.describe()"
   ]
  },
  {
   "cell_type": "code",
   "execution_count": 8,
   "id": "293b6586",
   "metadata": {},
   "outputs": [
    {
     "data": {
      "text/plain": [
       "count    1.019200e+04\n",
       "mean    -2.941132e-18\n",
       "std      9.989691e-01\n",
       "min     -2.005972e+00\n",
       "25%     -5.920258e-01\n",
       "50%     -3.984310e-01\n",
       "75%      4.671245e-01\n",
       "max      6.948792e+00\n",
       "Name: std_n_women, dtype: float64"
      ]
     },
     "execution_count": 8,
     "metadata": {},
     "output_type": "execute_result"
    }
   ],
   "source": [
    "dataset.std_n_women.describe()"
   ]
  },
  {
   "cell_type": "code",
   "execution_count": 9,
   "id": "amended-exemption",
   "metadata": {
    "scrolled": true
   },
   "outputs": [
    {
     "data": {
      "image/png": "[encoded data removed]",
      "text/plain": [
       "<Figure size 360x360 with 1 Axes>"
      ]
     },
     "metadata": {
      "needs_background": "light"
     },
     "output_type": "display_data"
    }
   ],
   "source": [
    "  \n",
    "bars = sns.catplot(x='bloc', kind='count', data=dataset, palette= [\"red\",\"blue\"],edgecolor = \"black\",alpha = 0.8)\n",
    "plt.annotate(str(round((sum(dataset['bloc']==\"r\") / len(dataset['sex']) * 100),1))+\"%\",(0,5400), ha='center')\n",
    "plt.annotate(str(round((sum(dataset['bloc']==\"b\") / len(dataset['sex']) * 100),1))+\"%\",(1,5000), ha='center')\n",
    "#plt.rcParams['figure.figsize'] = (12,2)\n",
    "\n",
    "\n",
    "plt.xlabel(\"\")\n",
    "plt.ylabel(\"Number of posts\")\n",
    "plt.xticks([0,1],[\"Red block\",\"Blue block\"])\n",
    "#plt.title(\"Posts on Instagram\")\n",
    "\n",
    "#plt.savefig(\"plots\\\\bloc_share_posts.png\",bbox_inches = \"tight\")\n",
    "\n",
    "\n",
    "plt.show()"
   ]
  },
  {
   "cell_type": "code",
   "execution_count": 10,
   "id": "global-company",
   "metadata": {},
   "outputs": [],
   "source": [
    "mandater = {'Siumut' : 1, \n",
    "            'Liberal Alliance' : 3, \n",
    "            'Radikale venstre' : 14,\n",
    "            'Socialdemokratiet' : 49, \n",
    "            'Venstre' : 40, \n",
    "            'SF' : 15, \n",
    "            'Konservative' : 12, \n",
    "            'DF': 16, \n",
    "            'Løsgænger' : 8,\n",
    "            'Enhedslisten' : 13, \n",
    "            'Nye Borgerlige' : 4, \n",
    "            'Javnaðarflokkurin': 1, \n",
    "            'Alternativet' : 1,\n",
    "            'Inuit Ataqatigiit' : 1}\n"
   ]
  },
  {
   "cell_type": "code",
   "execution_count": 11,
   "id": "moved-channel",
   "metadata": {},
   "outputs": [],
   "source": [
    "parties = dataset['party'].unique()\n",
    "n_members = []\n",
    "for party in parties:\n",
    "        n_members.append(len(dataset[dataset['party'] == party]['user'].unique()))\n",
    "        \n",
    "        \n",
    "party_users = pd.DataFrame(list(zip(parties, n_members,list(mandater.values()))), \n",
    "               columns =[\"party\",\"users\",\"mandates\"]) \n",
    "\n",
    "\n",
    "\n",
    "party_list = dataset.groupby([\"party\"]).agg({\"party\": ['count']})['party']\n",
    "party_list['percentage_posts'] = party_list['count'] / party_list['count'].sum() * 100\n",
    "party_list.reset_index(inplace=True)\n",
    "parties_df = pd.merge(party_list.sort_values(by = \"party\"), party_users.sort_values(by = \"party\"), on = \"party\")\n",
    "\n",
    "parties_df['user_percentage'] = parties_df['users'] / parties_df['users'].sum() * 100\n",
    "parties_df['mandate_percentage'] = parties_df['mandates'] / parties_df['mandates'].sum() * 100\n",
    "\n",
    "parties_df.sort_values(by = \"mandates\",ascending=False, inplace=True)\n",
    "parties_df = parties_df.reset_index(drop = True)\n",
    "\n",
    "\n",
    "parties_df.loc[len(parties_df.index)] = ['Sambandsflokkurin', 0,0,0,1,0,0]     \n",
    "\n",
    "parties_df['block'] = [\"r\",\"b\",\"b\",\"r\",\"r\",\"r\",\"b\",\"løsgænger\",\"b\",\"b\",\"r\",\"r\",\"r\",\"r\",\"b\"]"
   ]
  },
  {
   "cell_type": "code",
   "execution_count": 12,
   "id": "phantom-tenant",
   "metadata": {},
   "outputs": [
    {
     "data": {
      "text/plain": [
       "array(['Uffe Elbæk', 'Sikandar Siddique', 'Simon Emil Ammitzbøll Bille',\n",
       "       'Inger støjberg', 'Susanne Zimmer'], dtype=object)"
      ]
     },
     "execution_count": 12,
     "metadata": {},
     "output_type": "execute_result"
    }
   ],
   "source": [
    "dataset[dataset['party'] == \"Løsgænger\"][\"name\"].unique()"
   ]
  },
  {
   "cell_type": "code",
   "execution_count": 13,
   "id": "southwest-bidder",
   "metadata": {},
   "outputs": [
    {
     "data": {
      "text/html": [
       "<div>\n",
       "<style scoped>\n",
       "    .dataframe tbody tr th:only-of-type {\n",
       "        vertical-align: middle;\n",
       "    }\n",
       "\n",
       "    .dataframe tbody tr th {\n",
       "        vertical-align: top;\n",
       "    }\n",
       "\n",
       "    .dataframe thead th {\n",
       "        text-align: right;\n",
       "    }\n",
       "</style>\n",
       "<table border=\"1\" class=\"dataframe\">\n",
       "  <thead>\n",
       "    <tr style=\"text-align: right;\">\n",
       "      <th></th>\n",
       "      <th>party</th>\n",
       "      <th>count</th>\n",
       "      <th>percentage_posts</th>\n",
       "      <th>users</th>\n",
       "      <th>mandates</th>\n",
       "      <th>user_percentage</th>\n",
       "      <th>mandate_percentage</th>\n",
       "      <th>block</th>\n",
       "    </tr>\n",
       "  </thead>\n",
       "  <tbody>\n",
       "    <tr>\n",
       "      <th>0</th>\n",
       "      <td>Socialdemokratiet</td>\n",
       "      <td>2271</td>\n",
       "      <td>22.282182</td>\n",
       "      <td>27</td>\n",
       "      <td>49</td>\n",
       "      <td>21.09375</td>\n",
       "      <td>27.528090</td>\n",
       "      <td>r</td>\n",
       "    </tr>\n",
       "    <tr>\n",
       "      <th>1</th>\n",
       "      <td>Venstre</td>\n",
       "      <td>2154</td>\n",
       "      <td>21.134223</td>\n",
       "      <td>33</td>\n",
       "      <td>40</td>\n",
       "      <td>25.78125</td>\n",
       "      <td>22.471910</td>\n",
       "      <td>b</td>\n",
       "    </tr>\n",
       "    <tr>\n",
       "      <th>2</th>\n",
       "      <td>DF</td>\n",
       "      <td>1219</td>\n",
       "      <td>11.960361</td>\n",
       "      <td>10</td>\n",
       "      <td>16</td>\n",
       "      <td>7.81250</td>\n",
       "      <td>8.988764</td>\n",
       "      <td>b</td>\n",
       "    </tr>\n",
       "    <tr>\n",
       "      <th>3</th>\n",
       "      <td>SF</td>\n",
       "      <td>1068</td>\n",
       "      <td>10.478807</td>\n",
       "      <td>13</td>\n",
       "      <td>15</td>\n",
       "      <td>10.15625</td>\n",
       "      <td>8.426966</td>\n",
       "      <td>r</td>\n",
       "    </tr>\n",
       "    <tr>\n",
       "      <th>4</th>\n",
       "      <td>Radikale venstre</td>\n",
       "      <td>858</td>\n",
       "      <td>8.418367</td>\n",
       "      <td>12</td>\n",
       "      <td>14</td>\n",
       "      <td>9.37500</td>\n",
       "      <td>7.865169</td>\n",
       "      <td>r</td>\n",
       "    </tr>\n",
       "    <tr>\n",
       "      <th>5</th>\n",
       "      <td>Enhedslisten</td>\n",
       "      <td>568</td>\n",
       "      <td>5.572998</td>\n",
       "      <td>7</td>\n",
       "      <td>13</td>\n",
       "      <td>5.46875</td>\n",
       "      <td>7.303371</td>\n",
       "      <td>r</td>\n",
       "    </tr>\n",
       "    <tr>\n",
       "      <th>6</th>\n",
       "      <td>Konservative</td>\n",
       "      <td>612</td>\n",
       "      <td>6.004710</td>\n",
       "      <td>10</td>\n",
       "      <td>12</td>\n",
       "      <td>7.81250</td>\n",
       "      <td>6.741573</td>\n",
       "      <td>b</td>\n",
       "    </tr>\n",
       "    <tr>\n",
       "      <th>7</th>\n",
       "      <td>Løsgænger</td>\n",
       "      <td>443</td>\n",
       "      <td>4.346546</td>\n",
       "      <td>5</td>\n",
       "      <td>8</td>\n",
       "      <td>3.90625</td>\n",
       "      <td>4.494382</td>\n",
       "      <td>løsgænger</td>\n",
       "    </tr>\n",
       "    <tr>\n",
       "      <th>8</th>\n",
       "      <td>Nye Borgerlige</td>\n",
       "      <td>787</td>\n",
       "      <td>7.721743</td>\n",
       "      <td>4</td>\n",
       "      <td>4</td>\n",
       "      <td>3.12500</td>\n",
       "      <td>2.247191</td>\n",
       "      <td>b</td>\n",
       "    </tr>\n",
       "    <tr>\n",
       "      <th>9</th>\n",
       "      <td>Liberal Alliance</td>\n",
       "      <td>90</td>\n",
       "      <td>0.883046</td>\n",
       "      <td>3</td>\n",
       "      <td>3</td>\n",
       "      <td>2.34375</td>\n",
       "      <td>1.685393</td>\n",
       "      <td>b</td>\n",
       "    </tr>\n",
       "    <tr>\n",
       "      <th>10</th>\n",
       "      <td>Alternativet</td>\n",
       "      <td>24</td>\n",
       "      <td>0.235479</td>\n",
       "      <td>1</td>\n",
       "      <td>1</td>\n",
       "      <td>0.78125</td>\n",
       "      <td>0.561798</td>\n",
       "      <td>r</td>\n",
       "    </tr>\n",
       "    <tr>\n",
       "      <th>11</th>\n",
       "      <td>Inuit Ataqatigiit</td>\n",
       "      <td>1</td>\n",
       "      <td>0.009812</td>\n",
       "      <td>1</td>\n",
       "      <td>1</td>\n",
       "      <td>0.78125</td>\n",
       "      <td>0.561798</td>\n",
       "      <td>r</td>\n",
       "    </tr>\n",
       "    <tr>\n",
       "      <th>12</th>\n",
       "      <td>Javnaðarflokkurin</td>\n",
       "      <td>68</td>\n",
       "      <td>0.667190</td>\n",
       "      <td>1</td>\n",
       "      <td>1</td>\n",
       "      <td>0.78125</td>\n",
       "      <td>0.561798</td>\n",
       "      <td>r</td>\n",
       "    </tr>\n",
       "    <tr>\n",
       "      <th>13</th>\n",
       "      <td>Siumut</td>\n",
       "      <td>29</td>\n",
       "      <td>0.284537</td>\n",
       "      <td>1</td>\n",
       "      <td>1</td>\n",
       "      <td>0.78125</td>\n",
       "      <td>0.561798</td>\n",
       "      <td>r</td>\n",
       "    </tr>\n",
       "    <tr>\n",
       "      <th>14</th>\n",
       "      <td>Sambandsflokkurin</td>\n",
       "      <td>0</td>\n",
       "      <td>0.000000</td>\n",
       "      <td>0</td>\n",
       "      <td>1</td>\n",
       "      <td>0.00000</td>\n",
       "      <td>0.000000</td>\n",
       "      <td>b</td>\n",
       "    </tr>\n",
       "  </tbody>\n",
       "</table>\n",
       "</div>"
      ],
      "text/plain": [
       "                party  count  percentage_posts  users  mandates  \\\n",
       "0   Socialdemokratiet   2271         22.282182     27        49   \n",
       "1             Venstre   2154         21.134223     33        40   \n",
       "2                  DF   1219         11.960361     10        16   \n",
       "3                  SF   1068         10.478807     13        15   \n",
       "4    Radikale venstre    858          8.418367     12        14   \n",
       "5        Enhedslisten    568          5.572998      7        13   \n",
       "6        Konservative    612          6.004710     10        12   \n",
       "7           Løsgænger    443          4.346546      5         8   \n",
       "8      Nye Borgerlige    787          7.721743      4         4   \n",
       "9    Liberal Alliance     90          0.883046      3         3   \n",
       "10       Alternativet     24          0.235479      1         1   \n",
       "11  Inuit Ataqatigiit      1          0.009812      1         1   \n",
       "12  Javnaðarflokkurin     68          0.667190      1         1   \n",
       "13             Siumut     29          0.284537      1         1   \n",
       "14  Sambandsflokkurin      0          0.000000      0         1   \n",
       "\n",
       "    user_percentage  mandate_percentage      block  \n",
       "0          21.09375           27.528090          r  \n",
       "1          25.78125           22.471910          b  \n",
       "2           7.81250            8.988764          b  \n",
       "3          10.15625            8.426966          r  \n",
       "4           9.37500            7.865169          r  \n",
       "5           5.46875            7.303371          r  \n",
       "6           7.81250            6.741573          b  \n",
       "7           3.90625            4.494382  løsgænger  \n",
       "8           3.12500            2.247191          b  \n",
       "9           2.34375            1.685393          b  \n",
       "10          0.78125            0.561798          r  \n",
       "11          0.78125            0.561798          r  \n",
       "12          0.78125            0.561798          r  \n",
       "13          0.78125            0.561798          r  \n",
       "14          0.00000            0.000000          b  "
      ]
     },
     "execution_count": 13,
     "metadata": {},
     "output_type": "execute_result"
    }
   ],
   "source": [
    "parties_df"
   ]
  },
  {
   "cell_type": "code",
   "execution_count": 14,
   "id": "empty-sweden",
   "metadata": {},
   "outputs": [],
   "source": [
    "#i add the independets to their bloc - source: https://www.ft.dk/searchResults.aspx?sortedDescending=false&party=1626e331-893b-4130-894a-e0f1726ba5fb\n",
    "#blues: Simon Emil, Inger Støjberg, Lars Løkke and Orla Østerby\n",
    "#red: Uffe elbæk, Sikandar siddique, Susanne zimmer \n",
    "# I also add jens rohde to red as he was in RV on the 11th of march  as he changed to blue block \n",
    "blue = parties_df[parties_df['block'] == \"b\"][\"mandates\"].sum() + 4\n",
    "red = parties_df[parties_df['block'] == \"r\"][\"mandates\"].sum() +4"
   ]
  },
  {
   "cell_type": "code",
   "execution_count": 15,
   "id": "defined-efficiency",
   "metadata": {
    "scrolled": true
   },
   "outputs": [],
   "source": [
    "\n",
    "r_posts = sum(dataset['bloc']==\"r\")\n",
    "b_posts = sum(dataset['bloc']==\"b\")\n",
    "\n",
    "r_users = len(dataset[dataset['bloc'] == 'r']['user'].unique())\n",
    "b_users = len(dataset[dataset['bloc'] == 'b']['user'].unique())\n",
    "\n",
    "r_share = r_posts / (r_posts + b_posts)\n",
    "b_share = b_posts / (r_posts + b_posts)\n",
    "\n",
    "r_share_user =  r_users / ( r_users +  b_users)\n",
    "b_share_user = b_users / (r_users + b_users)\n",
    "\n",
    "blue_share = blue / 179\n",
    "red_share = red / 179"
   ]
  },
  {
   "cell_type": "code",
   "execution_count": 16,
   "id": "bdc8bf34",
   "metadata": {},
   "outputs": [
    {
     "name": "stdout",
     "output_type": "stream",
     "text": [
      "5317 4875 66 62 80 99\n"
     ]
    }
   ],
   "source": [
    "print(r_posts,b_posts,r_users,b_users,blue,red)"
   ]
  },
  {
   "cell_type": "code",
   "execution_count": 17,
   "id": "integrated-strain",
   "metadata": {},
   "outputs": [
    {
     "name": "stdout",
     "output_type": "stream",
     "text": [
      "['#4878d0', '#ee854a', '#6acc64', '#d65f5f', '#956cb4', '#8c613c', '#dc7ec0', '#797979', '#d5bb67', '#82c6e2']\n"
     ]
    }
   ],
   "source": [
    "pal = sns.color_palette(\"muted\")\n",
    "print(pal.as_hex())"
   ]
  },
  {
   "cell_type": "code",
   "execution_count": 18,
   "id": "innovative-study",
   "metadata": {},
   "outputs": [],
   "source": [
    "plt.rcParams.update({'font.size': 16})"
   ]
  },
  {
   "cell_type": "code",
   "execution_count": 19,
   "id": "monetary-amateur",
   "metadata": {},
   "outputs": [
    {
     "data": {
      "image/png": "[encoded data removed]",
      "text/plain": [
       "<Figure size 864x576 with 1 Axes>"
      ]
     },
     "metadata": {
      "needs_background": "light"
     },
     "output_type": "display_data"
    }
   ],
   "source": [
    "fig, axs = plt.subplots(figsize=(12,8))\n",
    "#axs.figure(figsize=(12,8))\n",
    "\n",
    "axs.bar([-0.2,1.2],[r_share,b_share],  0.40, label = \"Share of posts\", color = \"#4878d0\",edgecolor = \"black\", alpha = 0.80)\n",
    "axs.bar([0.2,1.6],[r_share_user,b_share_user],  0.40, label = \"Share of users\", edgecolor = \"black\", color = \"#d65f5f\", alpha = 0.8)\n",
    "axs.bar([0.6,2],[red_share,blue_share],  0.40, label = \"Share of seats in parliament\",edgecolor = \"black\",color = \"#6acc64\", alpha = 0.8)\n",
    "\n",
    "\n",
    "\n",
    "\n",
    "\n",
    "plt.annotate(str(round(r_share,3)*100) + \"%\",(-0.2,0.525), ha='center')\n",
    "plt.annotate(str(round(r_share_user,3)*100) + \"%\",(0.2,0.52), ha='center')\n",
    "plt.annotate(str(round(red_share*100,1)) + \"%\",(0.6,0.56), ha='center')\n",
    "\n",
    "plt.annotate(str(round(b_share,3)*100)+\"%\",(1.2,0.48), ha='center')\n",
    "plt.annotate(str(round(b_share_user,3) * 100)+\"%\",(1.6,0.49), ha='center')\n",
    "plt.annotate(str(round(blue_share,3) * 100)+\"%\",(2,0.452), ha='center')\n",
    "\n",
    "\n",
    "axs.spines['top'].set_visible(False)\n",
    "axs.spines['right'].set_visible(False)\n",
    "\n",
    "\n",
    "\n",
    "plt.ylim(0,0.7)\n",
    "plt.legend()\n",
    "plt.ylabel(\"Share\")\n",
    "#plt.xlabel(\"Party\")\n",
    "#plt.xlim(-0.5,13.5)\n",
    "plt.xticks([0.2,1.6],[\"Red block\", \"Blue block\"])\n",
    "#plt.title(\"Share of users and posts in each block\")\n",
    "#plt.title(\"Number of Instagram users compared to Number of seats in parlariment\")\n",
    "#plt.savefig(\"plots\\\\block_share_share.png\",bbox_inches = \"tight\")\n",
    "plt.show()"
   ]
  },
  {
   "cell_type": "markdown",
   "id": "humanitarian-shadow",
   "metadata": {},
   "source": [
    "# Gender distribution"
   ]
  },
  {
   "cell_type": "code",
   "execution_count": 20,
   "id": "31f507ff",
   "metadata": {},
   "outputs": [],
   "source": [
    "m_users = len(dataset[dataset['sex'] == 'm']['user'].unique())\n",
    "f_users = len(dataset[dataset['sex'] == 'f']['user'].unique())\n",
    "\n"
   ]
  },
  {
   "cell_type": "code",
   "execution_count": 21,
   "id": "dc8eca63",
   "metadata": {},
   "outputs": [
    {
     "data": {
      "text/plain": [
       "0.5078125"
      ]
     },
     "execution_count": 21,
     "metadata": {},
     "output_type": "execute_result"
    }
   ],
   "source": [
    "m_users /128"
   ]
  },
  {
   "cell_type": "code",
   "execution_count": 22,
   "id": "7e4ca0f5",
   "metadata": {},
   "outputs": [
    {
     "data": {
      "text/plain": [
       "0.4921875"
      ]
     },
     "execution_count": 22,
     "metadata": {},
     "output_type": "execute_result"
    }
   ],
   "source": [
    "f_users /128"
   ]
  },
  {
   "cell_type": "code",
   "execution_count": 23,
   "id": "20baac66",
   "metadata": {},
   "outputs": [
    {
     "data": {
      "text/plain": [
       "10192"
      ]
     },
     "execution_count": 23,
     "metadata": {},
     "output_type": "execute_result"
    }
   ],
   "source": [
    "len(dataset)"
   ]
  },
  {
   "cell_type": "code",
   "execution_count": 24,
   "id": "a20f991b",
   "metadata": {},
   "outputs": [
    {
     "data": {
      "text/plain": [
       "5923"
      ]
     },
     "execution_count": 24,
     "metadata": {},
     "output_type": "execute_result"
    }
   ],
   "source": [
    "sum(dataset.sex == \"f\")"
   ]
  },
  {
   "cell_type": "code",
   "execution_count": 25,
   "id": "ef4fb161",
   "metadata": {},
   "outputs": [
    {
     "data": {
      "text/plain": [
       "4269"
      ]
     },
     "execution_count": 25,
     "metadata": {},
     "output_type": "execute_result"
    }
   ],
   "source": [
    "sum(dataset.sex == \"m\")"
   ]
  },
  {
   "cell_type": "code",
   "execution_count": 26,
   "id": "alternate-isaac",
   "metadata": {},
   "outputs": [],
   "source": [
    "plt.rcParams.update({'font.size': 12})\n"
   ]
  },
  {
   "cell_type": "code",
   "execution_count": 27,
   "id": "automated-defense",
   "metadata": {},
   "outputs": [
    {
     "data": {
      "image/png": "[encoded data removed]",
      "text/plain": [
       "<Figure size 360x360 with 1 Axes>"
      ]
     },
     "metadata": {
      "needs_background": "light"
     },
     "output_type": "display_data"
    }
   ],
   "source": [
    "  \n",
    "bars = sns.catplot(x='sex', kind='count', data=dataset, palette= [\"red\",\"blue\"],edgecolor = \"black\",alpha = 0.8)\n",
    "plt.annotate(str(round((sum(dataset['sex']==\"f\") / len(dataset['sex']) * 100),2))+\"%\",(0,6000), ha='center')\n",
    "plt.annotate(str(round((sum(dataset['sex']==\"m\") / len(dataset['sex']) * 100),2))+\"%\",(1,4400), ha='center')\n",
    "\n",
    "#plt.annotate(sum(dataset['sex']==\"f\"),(0,5550), ha='center')\n",
    "#plt.annotate(sum(dataset['sex']==\"m\"),(1,4000), ha='center')\n",
    "#plt.rcParams['figure.figsize'] = (12,2)\n",
    "\n",
    "\n",
    "plt.xlabel(\"\")\n",
    "plt.ylabel(\"Number of posts\")\n",
    "plt.xticks([0,1],[\"Women\",\"Men\"])\n",
    "#plt.title(\"Posts on Instagram\")\n",
    "\n",
    "#plt.savefig(\"plots\\\\gender_share.png\",bbox_inches = \"tight\")\n",
    "\n",
    "\n",
    "plt.show()"
   ]
  },
  {
   "cell_type": "markdown",
   "id": "selected-equipment",
   "metadata": {},
   "source": [
    "### look at the parties"
   ]
  },
  {
   "cell_type": "code",
   "execution_count": 28,
   "id": "accessible-revision",
   "metadata": {},
   "outputs": [],
   "source": [
    "plt.rcParams.update({'font.size': 16})"
   ]
  },
  {
   "cell_type": "code",
   "execution_count": 29,
   "id": "formed-receiver",
   "metadata": {},
   "outputs": [],
   "source": [
    "parties_for_plot = [\"Social Democrats\",\n",
    "                    \"Liberal Party\",\n",
    "                    \"Danish people's party\",\n",
    "                    \"Socialist People’s Party\",\n",
    "                    \"Social-Liberal Party\",\n",
    "                    \"Red-Green Alliance\",\n",
    "                    \"Conservative\",\n",
    "                    \"Indepedents\",\n",
    "                    \"New Right\",\n",
    "                    \"Liberal Alliance\",\n",
    "                    \"Alternative\",\n",
    "                    \"Inuit Ataqatigiit\",\n",
    "                    \"Javnaðarflokkurin\",\n",
    "                    \"Siumut\"]"
   ]
  },
  {
   "cell_type": "code",
   "execution_count": 30,
   "id": "animal-chester",
   "metadata": {
    "scrolled": false
   },
   "outputs": [
    {
     "data": {
      "image/png": "[encoded data removed]",
      "text/plain": [
       "<Figure size 864x576 with 1 Axes>"
      ]
     },
     "metadata": {
      "needs_background": "light"
     },
     "output_type": "display_data"
    }
   ],
   "source": [
    "fig, axs = plt.subplots(figsize=(12,8))\n",
    "#plt.rcParams.update({'font.size': 16})\n",
    "\n",
    "\n",
    "\n",
    "\n",
    "\n",
    "axs.bar(parties_df.index - 0.15 ,parties_df[\"percentage_posts\"],  0.30, label = \"Share of posts\",color = \"#4878d0\",edgecolor = \"black\", alpha = 0.8)\n",
    "axs.bar(parties_df.index + 0.15,parties_df[\"user_percentage\"],  0.30, label = \"Share of users\", color = \"#d65f5f\", edgecolor = \"black\",alpha = 0.8)\n",
    "axs.bar(parties_df.index + 0.45,parties_df[\"mandate_percentage\"], 0.30, label = \"Share of seats in parliament\",color = \"#6acc64\",edgecolor = \"black\", alpha = 0.8)\n",
    "plt.legend()\n",
    "plt.ylabel(\"Share\")\n",
    "plt.xlabel(\"Party\")\n",
    "plt.xlim(-0.5,14)\n",
    "#plt.xticks([0.12,1.12,2.12,3.12,4.12,5.12,6.12,7.12,8.12,9.12,10.125,11.12,12.12,13.12],parties_df[\"party\"][0:14], rotation = 90)\n",
    "plt.xticks([0.12,1.12,2.12,3.12,4.12,5.12,6.12,7.12,8.12,9.12,10.125,11.12,12.12,13.12],parties_for_plot, rotation = 90)\n",
    "\n",
    "axs.spines['top'].set_visible(False)\n",
    "axs.spines['right'].set_visible(False)\n",
    "\n",
    "#plt.title(\"Number seats and users\")\n",
    "\n",
    "#plt.savefig(\"plots\\\\share_parties_all3.png\",bbox_inches = \"tight\")\n",
    "plt.show()"
   ]
  },
  {
   "cell_type": "code",
   "execution_count": 31,
   "id": "revised-mouse",
   "metadata": {},
   "outputs": [],
   "source": [
    "plt.rcParams.update({'font.size': 12})"
   ]
  },
  {
   "cell_type": "markdown",
   "id": "ready-revolution",
   "metadata": {},
   "source": [
    "Group by individual politican to make a plot"
   ]
  },
  {
   "cell_type": "code",
   "execution_count": 32,
   "id": "planned-venture",
   "metadata": {},
   "outputs": [],
   "source": [
    "user_list = dataset.groupby([\"name\",\"bloc\"]).agg({\"name\": ['count']})['name']\n",
    "user_list = user_list.sort_values(by = \"count\", ascending=False)\n",
    "user_list.reset_index(inplace=True)"
   ]
  },
  {
   "cell_type": "code",
   "execution_count": 33,
   "id": "lasting-player",
   "metadata": {},
   "outputs": [
    {
     "data": {
      "text/html": [
       "<div>\n",
       "<style scoped>\n",
       "    .dataframe tbody tr th:only-of-type {\n",
       "        vertical-align: middle;\n",
       "    }\n",
       "\n",
       "    .dataframe tbody tr th {\n",
       "        vertical-align: top;\n",
       "    }\n",
       "\n",
       "    .dataframe thead th {\n",
       "        text-align: right;\n",
       "    }\n",
       "</style>\n",
       "<table border=\"1\" class=\"dataframe\">\n",
       "  <thead>\n",
       "    <tr style=\"text-align: right;\">\n",
       "      <th></th>\n",
       "      <th>name</th>\n",
       "      <th>bloc</th>\n",
       "      <th>count</th>\n",
       "    </tr>\n",
       "  </thead>\n",
       "  <tbody>\n",
       "    <tr>\n",
       "      <th>0</th>\n",
       "      <td>Pernille Vermund</td>\n",
       "      <td>b</td>\n",
       "      <td>426</td>\n",
       "    </tr>\n",
       "    <tr>\n",
       "      <th>1</th>\n",
       "      <td>Pia Kjærsgaard</td>\n",
       "      <td>b</td>\n",
       "      <td>373</td>\n",
       "    </tr>\n",
       "    <tr>\n",
       "      <th>2</th>\n",
       "      <td>Mette Frederiksen</td>\n",
       "      <td>r</td>\n",
       "      <td>291</td>\n",
       "    </tr>\n",
       "    <tr>\n",
       "      <th>3</th>\n",
       "      <td>liselott blixt</td>\n",
       "      <td>b</td>\n",
       "      <td>273</td>\n",
       "    </tr>\n",
       "    <tr>\n",
       "      <th>4</th>\n",
       "      <td>Pia Olsen Dyhr</td>\n",
       "      <td>r</td>\n",
       "      <td>240</td>\n",
       "    </tr>\n",
       "    <tr>\n",
       "      <th>...</th>\n",
       "      <td>...</td>\n",
       "      <td>...</td>\n",
       "      <td>...</td>\n",
       "    </tr>\n",
       "    <tr>\n",
       "      <th>123</th>\n",
       "      <td>Simon Emil Ammitzbøll Bille</td>\n",
       "      <td>b</td>\n",
       "      <td>4</td>\n",
       "    </tr>\n",
       "    <tr>\n",
       "      <th>124</th>\n",
       "      <td>Marie Krarup</td>\n",
       "      <td>b</td>\n",
       "      <td>2</td>\n",
       "    </tr>\n",
       "    <tr>\n",
       "      <th>125</th>\n",
       "      <td>Kirsten Normann Andersen</td>\n",
       "      <td>r</td>\n",
       "      <td>2</td>\n",
       "    </tr>\n",
       "    <tr>\n",
       "      <th>126</th>\n",
       "      <td>Rune Lund</td>\n",
       "      <td>r</td>\n",
       "      <td>1</td>\n",
       "    </tr>\n",
       "    <tr>\n",
       "      <th>127</th>\n",
       "      <td>aaja chemnitz larsen</td>\n",
       "      <td>r</td>\n",
       "      <td>1</td>\n",
       "    </tr>\n",
       "  </tbody>\n",
       "</table>\n",
       "<p>128 rows × 3 columns</p>\n",
       "</div>"
      ],
      "text/plain": [
       "                            name bloc  count\n",
       "0               Pernille Vermund    b    426\n",
       "1                 Pia Kjærsgaard    b    373\n",
       "2              Mette Frederiksen    r    291\n",
       "3                 liselott blixt    b    273\n",
       "4                 Pia Olsen Dyhr    r    240\n",
       "..                           ...  ...    ...\n",
       "123  Simon Emil Ammitzbøll Bille    b      4\n",
       "124                 Marie Krarup    b      2\n",
       "125     Kirsten Normann Andersen    r      2\n",
       "126                    Rune Lund    r      1\n",
       "127         aaja chemnitz larsen    r      1\n",
       "\n",
       "[128 rows x 3 columns]"
      ]
     },
     "execution_count": 33,
     "metadata": {},
     "output_type": "execute_result"
    }
   ],
   "source": [
    "user_list"
   ]
  },
  {
   "cell_type": "code",
   "execution_count": 34,
   "id": "timely-exploration",
   "metadata": {
    "scrolled": true
   },
   "outputs": [
    {
     "data": {
      "text/plain": [
       "count    128.000000\n",
       "mean      79.625000\n",
       "std       73.307786\n",
       "min        1.000000\n",
       "25%       28.500000\n",
       "50%       63.000000\n",
       "75%      113.250000\n",
       "max      426.000000\n",
       "Name: count, dtype: float64"
      ]
     },
     "execution_count": 34,
     "metadata": {},
     "output_type": "execute_result"
    }
   ],
   "source": [
    "user_list['count'].describe()"
   ]
  },
  {
   "cell_type": "markdown",
   "id": "dutch-increase",
   "metadata": {},
   "source": [
    "# Distribution of superuserness"
   ]
  },
  {
   "cell_type": "code",
   "execution_count": 35,
   "id": "southwest-technician",
   "metadata": {},
   "outputs": [
    {
     "data": {
      "image/png": "[encoded data removed]",
      "text/plain": [
       "<Figure size 432x288 with 1 Axes>"
      ]
     },
     "metadata": {
      "needs_background": "light"
     },
     "output_type": "display_data"
    }
   ],
   "source": [
    "\n",
    "#sns.displot(x=\"count\", hue=\"bloc\",data=user_list, palette = [\"b\",\"r\"],legend=\"\",bins = 5, alpha = 0.5)\n",
    "#plt.legend( loc='upper right', labels=['Rød blok', 'Blå blok'])\n",
    "#plt.savefig(\"plots\\\\dist_users_posts1.png\")\n",
    "plt.figure(figsize=(6,4))\n",
    "\n",
    "sns.kdeplot(x=\"count\", data=user_list, legend=\"\", alpha = 0.5, shade = True)\n",
    "plt.xlim(0,500)\n",
    "#plt.legend( loc='upper right', labels=['Red block', 'Blue block'])\n",
    "sns.despine()\n",
    "plt.title(\"Distribution of user activity\")\n",
    "axs.spines['top'].set_visible(False)\n",
    "axs.spines['right'].set_visible(False)\n",
    "#plt.savefig(\"plots\\\\dist_user_activity.png\",bbox_inches = \"tight\")\n",
    "\n",
    "\n",
    "plt.show()"
   ]
  },
  {
   "cell_type": "code",
   "execution_count": 36,
   "id": "8531a3ee",
   "metadata": {},
   "outputs": [],
   "source": [
    "max_outlier = (114.250000 - 28.500000) * 1.5 + 80.27"
   ]
  },
  {
   "cell_type": "code",
   "execution_count": 37,
   "id": "charitable-timeline",
   "metadata": {},
   "outputs": [],
   "source": [
    "ul1 = user_list[user_list['count']<167]\n",
    "ul_10per = user_list[user_list['count']>167]\n",
    "ul_sup = user_list[user_list['count']>207]"
   ]
  },
  {
   "cell_type": "code",
   "execution_count": 38,
   "id": "135d3c97",
   "metadata": {},
   "outputs": [
    {
     "name": "stdout",
     "output_type": "stream",
     "text": [
      "['#0b559f', '#2b7bba', '#539ecd', '#89bedc', '#bad6eb', '#dbe9f6']\n"
     ]
    }
   ],
   "source": [
    "pal = sns.color_palette(\"Blues_r\")\n",
    "print(pal.as_hex())"
   ]
  },
  {
   "cell_type": "code",
   "execution_count": 39,
   "id": "3b9c7c02",
   "metadata": {},
   "outputs": [
    {
     "data": {
      "text/html": [
       "<div>\n",
       "<style scoped>\n",
       "    .dataframe tbody tr th:only-of-type {\n",
       "        vertical-align: middle;\n",
       "    }\n",
       "\n",
       "    .dataframe tbody tr th {\n",
       "        vertical-align: top;\n",
       "    }\n",
       "\n",
       "    .dataframe thead th {\n",
       "        text-align: right;\n",
       "    }\n",
       "</style>\n",
       "<table border=\"1\" class=\"dataframe\">\n",
       "  <thead>\n",
       "    <tr style=\"text-align: right;\">\n",
       "      <th></th>\n",
       "      <th>level_0</th>\n",
       "      <th>index</th>\n",
       "      <th>post_nr</th>\n",
       "      <th>date</th>\n",
       "      <th>text</th>\n",
       "      <th>likes</th>\n",
       "      <th>user</th>\n",
       "      <th>date_clean</th>\n",
       "      <th>datetime</th>\n",
       "      <th>days_till_linde</th>\n",
       "      <th>...</th>\n",
       "      <th>women_binary</th>\n",
       "      <th>men_binary</th>\n",
       "      <th>year_week</th>\n",
       "      <th>std_n_women</th>\n",
       "      <th>fourteen_days</th>\n",
       "      <th>month</th>\n",
       "      <th>week_after</th>\n",
       "      <th>fourteen_days_after</th>\n",
       "      <th>month_after</th>\n",
       "      <th>days_till_linde_after</th>\n",
       "    </tr>\n",
       "  </thead>\n",
       "  <tbody>\n",
       "    <tr>\n",
       "      <th>0</th>\n",
       "      <td>0</td>\n",
       "      <td>0</td>\n",
       "      <td>0</td>\n",
       "      <td>3 DAYS AGO</td>\n",
       "      <td>Nunarput ♥️</td>\n",
       "      <td>71.0</td>\n",
       "      <td>akimati</td>\n",
       "      <td>2021-02-15</td>\n",
       "      <td>2021-02-15</td>\n",
       "      <td>173</td>\n",
       "      <td>...</td>\n",
       "      <td>0</td>\n",
       "      <td>0</td>\n",
       "      <td>2021_7</td>\n",
       "      <td>-0.713477</td>\n",
       "      <td>12</td>\n",
       "      <td>5</td>\n",
       "      <td>24</td>\n",
       "      <td>12</td>\n",
       "      <td>5</td>\n",
       "      <td>173</td>\n",
       "    </tr>\n",
       "    <tr>\n",
       "      <th>1</th>\n",
       "      <td>1</td>\n",
       "      <td>1</td>\n",
       "      <td>1</td>\n",
       "      <td>4 DAYS AGO</td>\n",
       "      <td>So proud of @kunofencker. 🏆🏆🏆 You won the nati...</td>\n",
       "      <td>71.0</td>\n",
       "      <td>akimati</td>\n",
       "      <td>2021-02-14</td>\n",
       "      <td>2021-02-14</td>\n",
       "      <td>172</td>\n",
       "      <td>...</td>\n",
       "      <td>0</td>\n",
       "      <td>1</td>\n",
       "      <td>2021_6</td>\n",
       "      <td>-0.713477</td>\n",
       "      <td>12</td>\n",
       "      <td>5</td>\n",
       "      <td>24</td>\n",
       "      <td>12</td>\n",
       "      <td>5</td>\n",
       "      <td>172</td>\n",
       "    </tr>\n",
       "    <tr>\n",
       "      <th>2</th>\n",
       "      <td>2</td>\n",
       "      <td>2</td>\n",
       "      <td>2</td>\n",
       "      <td>FEBRUARY 2</td>\n",
       "      <td>Many people ask me how I can work as a parliam...</td>\n",
       "      <td>100.0</td>\n",
       "      <td>akimati</td>\n",
       "      <td>2021-02-02</td>\n",
       "      <td>2021-02-02</td>\n",
       "      <td>160</td>\n",
       "      <td>...</td>\n",
       "      <td>0</td>\n",
       "      <td>0</td>\n",
       "      <td>2021_5</td>\n",
       "      <td>-0.713477</td>\n",
       "      <td>11</td>\n",
       "      <td>5</td>\n",
       "      <td>22</td>\n",
       "      <td>11</td>\n",
       "      <td>5</td>\n",
       "      <td>160</td>\n",
       "    </tr>\n",
       "    <tr>\n",
       "      <th>3</th>\n",
       "      <td>3</td>\n",
       "      <td>3</td>\n",
       "      <td>3</td>\n",
       "      <td>JANUARY 23</td>\n",
       "      <td>Relatable af</td>\n",
       "      <td>108.0</td>\n",
       "      <td>akimati</td>\n",
       "      <td>2021-01-23</td>\n",
       "      <td>2021-01-23</td>\n",
       "      <td>150</td>\n",
       "      <td>...</td>\n",
       "      <td>0</td>\n",
       "      <td>1</td>\n",
       "      <td>2021_3</td>\n",
       "      <td>-0.713477</td>\n",
       "      <td>10</td>\n",
       "      <td>5</td>\n",
       "      <td>21</td>\n",
       "      <td>10</td>\n",
       "      <td>5</td>\n",
       "      <td>150</td>\n",
       "    </tr>\n",
       "    <tr>\n",
       "      <th>4</th>\n",
       "      <td>4</td>\n",
       "      <td>4</td>\n",
       "      <td>4</td>\n",
       "      <td>DECEMBER 22, 2020</td>\n",
       "      <td>So excited for the kids to get home to us. I e...</td>\n",
       "      <td>19.0</td>\n",
       "      <td>akimati</td>\n",
       "      <td>2020-12-22</td>\n",
       "      <td>2020-12-22</td>\n",
       "      <td>118</td>\n",
       "      <td>...</td>\n",
       "      <td>0</td>\n",
       "      <td>0</td>\n",
       "      <td>2020_52</td>\n",
       "      <td>-0.713477</td>\n",
       "      <td>8</td>\n",
       "      <td>3</td>\n",
       "      <td>16</td>\n",
       "      <td>8</td>\n",
       "      <td>3</td>\n",
       "      <td>118</td>\n",
       "    </tr>\n",
       "    <tr>\n",
       "      <th>...</th>\n",
       "      <td>...</td>\n",
       "      <td>...</td>\n",
       "      <td>...</td>\n",
       "      <td>...</td>\n",
       "      <td>...</td>\n",
       "      <td>...</td>\n",
       "      <td>...</td>\n",
       "      <td>...</td>\n",
       "      <td>...</td>\n",
       "      <td>...</td>\n",
       "      <td>...</td>\n",
       "      <td>...</td>\n",
       "      <td>...</td>\n",
       "      <td>...</td>\n",
       "      <td>...</td>\n",
       "      <td>...</td>\n",
       "      <td>...</td>\n",
       "      <td>...</td>\n",
       "      <td>...</td>\n",
       "      <td>...</td>\n",
       "      <td>...</td>\n",
       "    </tr>\n",
       "    <tr>\n",
       "      <th>10187</th>\n",
       "      <td>10187</td>\n",
       "      <td>11651</td>\n",
       "      <td>111</td>\n",
       "      <td>MARCH 19, 2020</td>\n",
       "      <td>Sådan her ser møder med Kulturministeren ud fo...</td>\n",
       "      <td>102.0</td>\n",
       "      <td>zenia.stampe</td>\n",
       "      <td>2020-03-19</td>\n",
       "      <td>2020-03-19</td>\n",
       "      <td>-160</td>\n",
       "      <td>...</td>\n",
       "      <td>0</td>\n",
       "      <td>1</td>\n",
       "      <td>2020_12</td>\n",
       "      <td>-1.122497</td>\n",
       "      <td>-12</td>\n",
       "      <td>-6</td>\n",
       "      <td>-1</td>\n",
       "      <td>-1</td>\n",
       "      <td>-1</td>\n",
       "      <td>-1</td>\n",
       "    </tr>\n",
       "    <tr>\n",
       "      <th>10188</th>\n",
       "      <td>10188</td>\n",
       "      <td>11652</td>\n",
       "      <td>112</td>\n",
       "      <td>MARCH 19, 2020</td>\n",
       "      <td>Jeg er glad for at kunne fortælle, at vi nu og...</td>\n",
       "      <td>228.0</td>\n",
       "      <td>zenia.stampe</td>\n",
       "      <td>2020-03-19</td>\n",
       "      <td>2020-03-19</td>\n",
       "      <td>-160</td>\n",
       "      <td>...</td>\n",
       "      <td>1</td>\n",
       "      <td>0</td>\n",
       "      <td>2020_12</td>\n",
       "      <td>0.387529</td>\n",
       "      <td>-12</td>\n",
       "      <td>-6</td>\n",
       "      <td>-1</td>\n",
       "      <td>-1</td>\n",
       "      <td>-1</td>\n",
       "      <td>-1</td>\n",
       "    </tr>\n",
       "    <tr>\n",
       "      <th>10189</th>\n",
       "      <td>10189</td>\n",
       "      <td>11653</td>\n",
       "      <td>113</td>\n",
       "      <td>MARCH 18, 2020</td>\n",
       "      <td>Regeringen har lige fremlagt en hjælpepakke fo...</td>\n",
       "      <td>158.0</td>\n",
       "      <td>zenia.stampe</td>\n",
       "      <td>2020-03-18</td>\n",
       "      <td>2020-03-18</td>\n",
       "      <td>-161</td>\n",
       "      <td>...</td>\n",
       "      <td>1</td>\n",
       "      <td>0</td>\n",
       "      <td>2020_12</td>\n",
       "      <td>0.387529</td>\n",
       "      <td>-12</td>\n",
       "      <td>-6</td>\n",
       "      <td>-1</td>\n",
       "      <td>-1</td>\n",
       "      <td>-1</td>\n",
       "      <td>-1</td>\n",
       "    </tr>\n",
       "    <tr>\n",
       "      <th>10190</th>\n",
       "      <td>10190</td>\n",
       "      <td>11654</td>\n",
       "      <td>114</td>\n",
       "      <td>MARCH 14, 2020</td>\n",
       "      <td>Den her tid sætter en masse tanker igang. Selv...</td>\n",
       "      <td>239.0</td>\n",
       "      <td>zenia.stampe</td>\n",
       "      <td>2020-03-14</td>\n",
       "      <td>2020-03-14</td>\n",
       "      <td>-165</td>\n",
       "      <td>...</td>\n",
       "      <td>1</td>\n",
       "      <td>0</td>\n",
       "      <td>2020_11</td>\n",
       "      <td>0.387529</td>\n",
       "      <td>-12</td>\n",
       "      <td>-6</td>\n",
       "      <td>-1</td>\n",
       "      <td>-1</td>\n",
       "      <td>-1</td>\n",
       "      <td>-1</td>\n",
       "    </tr>\n",
       "    <tr>\n",
       "      <th>10191</th>\n",
       "      <td>10191</td>\n",
       "      <td>11660</td>\n",
       "      <td>0</td>\n",
       "      <td>MARCH 10, 2020</td>\n",
       "      <td>Så er jeg igang igen efter en del rejser og en...</td>\n",
       "      <td>48.0</td>\n",
       "      <td>aaja_chemnitz</td>\n",
       "      <td>2020-03-10</td>\n",
       "      <td>2020-03-10</td>\n",
       "      <td>-169</td>\n",
       "      <td>...</td>\n",
       "      <td>1</td>\n",
       "      <td>1</td>\n",
       "      <td>2020_11</td>\n",
       "      <td>0.000000</td>\n",
       "      <td>-13</td>\n",
       "      <td>-6</td>\n",
       "      <td>-1</td>\n",
       "      <td>-1</td>\n",
       "      <td>-1</td>\n",
       "      <td>-1</td>\n",
       "    </tr>\n",
       "  </tbody>\n",
       "</table>\n",
       "<p>10192 rows × 38 columns</p>\n",
       "</div>"
      ],
      "text/plain": [
       "       level_0  index  post_nr               date  \\\n",
       "0            0      0        0         3 DAYS AGO   \n",
       "1            1      1        1         4 DAYS AGO   \n",
       "2            2      2        2         FEBRUARY 2   \n",
       "3            3      3        3         JANUARY 23   \n",
       "4            4      4        4  DECEMBER 22, 2020   \n",
       "...        ...    ...      ...                ...   \n",
       "10187    10187  11651      111     MARCH 19, 2020   \n",
       "10188    10188  11652      112     MARCH 19, 2020   \n",
       "10189    10189  11653      113     MARCH 18, 2020   \n",
       "10190    10190  11654      114     MARCH 14, 2020   \n",
       "10191    10191  11660        0     MARCH 10, 2020   \n",
       "\n",
       "                                                    text  likes  \\\n",
       "0                                            Nunarput ♥️   71.0   \n",
       "1      So proud of @kunofencker. 🏆🏆🏆 You won the nati...   71.0   \n",
       "2      Many people ask me how I can work as a parliam...  100.0   \n",
       "3                                           Relatable af  108.0   \n",
       "4      So excited for the kids to get home to us. I e...   19.0   \n",
       "...                                                  ...    ...   \n",
       "10187  Sådan her ser møder med Kulturministeren ud fo...  102.0   \n",
       "10188  Jeg er glad for at kunne fortælle, at vi nu og...  228.0   \n",
       "10189  Regeringen har lige fremlagt en hjælpepakke fo...  158.0   \n",
       "10190  Den her tid sætter en masse tanker igang. Selv...  239.0   \n",
       "10191  Så er jeg igang igen efter en del rejser og en...   48.0   \n",
       "\n",
       "                user  date_clean    datetime  days_till_linde  ...  \\\n",
       "0            akimati  2021-02-15  2021-02-15              173  ...   \n",
       "1            akimati  2021-02-14  2021-02-14              172  ...   \n",
       "2            akimati  2021-02-02  2021-02-02              160  ...   \n",
       "3            akimati  2021-01-23  2021-01-23              150  ...   \n",
       "4            akimati  2020-12-22  2020-12-22              118  ...   \n",
       "...              ...         ...         ...              ...  ...   \n",
       "10187   zenia.stampe  2020-03-19  2020-03-19             -160  ...   \n",
       "10188   zenia.stampe  2020-03-19  2020-03-19             -160  ...   \n",
       "10189   zenia.stampe  2020-03-18  2020-03-18             -161  ...   \n",
       "10190   zenia.stampe  2020-03-14  2020-03-14             -165  ...   \n",
       "10191  aaja_chemnitz  2020-03-10  2020-03-10             -169  ...   \n",
       "\n",
       "       women_binary men_binary  year_week  std_n_women  fourteen_days  month  \\\n",
       "0                 0          0     2021_7    -0.713477             12      5   \n",
       "1                 0          1     2021_6    -0.713477             12      5   \n",
       "2                 0          0     2021_5    -0.713477             11      5   \n",
       "3                 0          1     2021_3    -0.713477             10      5   \n",
       "4                 0          0    2020_52    -0.713477              8      3   \n",
       "...             ...        ...        ...          ...            ...    ...   \n",
       "10187             0          1    2020_12    -1.122497            -12     -6   \n",
       "10188             1          0    2020_12     0.387529            -12     -6   \n",
       "10189             1          0    2020_12     0.387529            -12     -6   \n",
       "10190             1          0    2020_11     0.387529            -12     -6   \n",
       "10191             1          1    2020_11     0.000000            -13     -6   \n",
       "\n",
       "       week_after  fourteen_days_after  month_after days_till_linde_after  \n",
       "0              24                   12            5                   173  \n",
       "1              24                   12            5                   172  \n",
       "2              22                   11            5                   160  \n",
       "3              21                   10            5                   150  \n",
       "4              16                    8            3                   118  \n",
       "...           ...                  ...          ...                   ...  \n",
       "10187          -1                   -1           -1                    -1  \n",
       "10188          -1                   -1           -1                    -1  \n",
       "10189          -1                   -1           -1                    -1  \n",
       "10190          -1                   -1           -1                    -1  \n",
       "10191          -1                   -1           -1                    -1  \n",
       "\n",
       "[10192 rows x 38 columns]"
      ]
     },
     "execution_count": 39,
     "metadata": {},
     "output_type": "execute_result"
    }
   ],
   "source": [
    "dataset"
   ]
  },
  {
   "cell_type": "code",
   "execution_count": 40,
   "id": "eafcdfe9",
   "metadata": {
    "scrolled": true
   },
   "outputs": [],
   "source": [
    "#percentiles = list(np.percentile(user_list['count'], [0,10,20,30,40,50,60,70,80,90]))\n",
    "#percentile = 1\n",
    "#for i,n in enumerate(percentiles): \n",
    " #   user_list.loc[user_list['count'] >= n,'percentile'] = i\n"
   ]
  },
  {
   "cell_type": "code",
   "execution_count": 41,
   "id": "cbcc6bab",
   "metadata": {},
   "outputs": [],
   "source": [
    "#user_list"
   ]
  },
  {
   "cell_type": "code",
   "execution_count": 42,
   "id": "correct-artwork",
   "metadata": {
    "scrolled": false
   },
   "outputs": [
    {
     "data": {
      "image/png": "[encoded data removed]",
      "text/plain": [
       "<Figure size 1151.71x864 with 1 Axes>"
      ]
     },
     "metadata": {
      "needs_background": "light"
     },
     "output_type": "display_data"
    }
   ],
   "source": [
    "#plt.figure(figsize=(16,12))\n",
    "plt.rcParams.update({'font.size': 30})\n",
    "#sns.displot(x=\"count\", hue=\"bloc\",data=user_list, palette = [\"b\",\"r\"],legend=\"\",bins = 5, alpha = 0.5)\n",
    "#plt.legend( loc='upper right', labels=['Rød blok', 'Blå blok'])\n",
    "#plt.savefig(\"plots\\\\dist_users_posts1.png\")\n",
    "#plt.figure(figsize=(6,4))\n",
    "#sns.set(rc={\"figure.figsize\":(16, 12)})\n",
    "sns.displot(x= \"count\", data=user_list, \n",
    "            color = '#0b559f', \n",
    "            edgecolor = \"black\", \n",
    "            alpha = 0.7, \n",
    "            bins = 10, \n",
    "            kde = True, \n",
    "            height=12, \n",
    "            aspect=1.333)\n",
    "\n",
    "#sns.displot(x= \"count\", data=user_list, edgecolor = \"black\", palette=pal, alpha = 0.7)\n",
    "\n",
    "#plt.hist(ul1['count'], bins=10, histtype='step',color = \"blue\",)\n",
    "#plt.hist(ul_10per['count'], bins=7, histtype='step',hatch='-',edgecolor='k')\n",
    "#plt.hist(ul_sup['count'], bins=2, histtype='step',hatch='/', edgecolor='k')\n",
    "\n",
    "plt.xlim(0,450)\n",
    "#plt.legend( loc='upper right', labels=['Red block', 'Blue block'])\n",
    "sns.despine()\n",
    "#plt.title(\"Distribution of user activity\")\n",
    "plt.xlabel(\"Number of posts\")\n",
    "plt.ylabel(\"Number of MPs\")\n",
    "axs.spines['top'].set_visible(False)\n",
    "axs.spines['right'].set_visible(False)\n",
    "plt.axvline(x = 211, ymax = 0.4, color =  '#d52221', label = \"Superusers\", linestyle = \"--\", linewidth = 6) \n",
    "#plt.axvline(x = 167, color = 'black', label = \"Top 10%\", linestyle = \"-.\") \n",
    "\n",
    "plt.legend()\n",
    "plt.savefig(\"plots\\\\dist_user_activity.png\",bbox_inches = \"tight\")\n",
    "#plt.xlabel(\"Number of posts in the period\")\n",
    "plt.show()"
   ]
  },
  {
   "cell_type": "code",
   "execution_count": 43,
   "id": "1071d01b",
   "metadata": {},
   "outputs": [
    {
     "data": {
      "text/html": [
       "<div>\n",
       "<style scoped>\n",
       "    .dataframe tbody tr th:only-of-type {\n",
       "        vertical-align: middle;\n",
       "    }\n",
       "\n",
       "    .dataframe tbody tr th {\n",
       "        vertical-align: top;\n",
       "    }\n",
       "\n",
       "    .dataframe thead th {\n",
       "        text-align: right;\n",
       "    }\n",
       "</style>\n",
       "<table border=\"1\" class=\"dataframe\">\n",
       "  <thead>\n",
       "    <tr style=\"text-align: right;\">\n",
       "      <th></th>\n",
       "      <th>name</th>\n",
       "      <th>bloc</th>\n",
       "      <th>count</th>\n",
       "    </tr>\n",
       "  </thead>\n",
       "  <tbody>\n",
       "    <tr>\n",
       "      <th>0</th>\n",
       "      <td>Pernille Vermund</td>\n",
       "      <td>b</td>\n",
       "      <td>426</td>\n",
       "    </tr>\n",
       "    <tr>\n",
       "      <th>1</th>\n",
       "      <td>Pia Kjærsgaard</td>\n",
       "      <td>b</td>\n",
       "      <td>373</td>\n",
       "    </tr>\n",
       "    <tr>\n",
       "      <th>2</th>\n",
       "      <td>Mette Frederiksen</td>\n",
       "      <td>r</td>\n",
       "      <td>291</td>\n",
       "    </tr>\n",
       "    <tr>\n",
       "      <th>3</th>\n",
       "      <td>liselott blixt</td>\n",
       "      <td>b</td>\n",
       "      <td>273</td>\n",
       "    </tr>\n",
       "    <tr>\n",
       "      <th>4</th>\n",
       "      <td>Pia Olsen Dyhr</td>\n",
       "      <td>r</td>\n",
       "      <td>240</td>\n",
       "    </tr>\n",
       "    <tr>\n",
       "      <th>...</th>\n",
       "      <td>...</td>\n",
       "      <td>...</td>\n",
       "      <td>...</td>\n",
       "    </tr>\n",
       "    <tr>\n",
       "      <th>123</th>\n",
       "      <td>Simon Emil Ammitzbøll Bille</td>\n",
       "      <td>b</td>\n",
       "      <td>4</td>\n",
       "    </tr>\n",
       "    <tr>\n",
       "      <th>124</th>\n",
       "      <td>Marie Krarup</td>\n",
       "      <td>b</td>\n",
       "      <td>2</td>\n",
       "    </tr>\n",
       "    <tr>\n",
       "      <th>125</th>\n",
       "      <td>Kirsten Normann Andersen</td>\n",
       "      <td>r</td>\n",
       "      <td>2</td>\n",
       "    </tr>\n",
       "    <tr>\n",
       "      <th>126</th>\n",
       "      <td>Rune Lund</td>\n",
       "      <td>r</td>\n",
       "      <td>1</td>\n",
       "    </tr>\n",
       "    <tr>\n",
       "      <th>127</th>\n",
       "      <td>aaja chemnitz larsen</td>\n",
       "      <td>r</td>\n",
       "      <td>1</td>\n",
       "    </tr>\n",
       "  </tbody>\n",
       "</table>\n",
       "<p>128 rows × 3 columns</p>\n",
       "</div>"
      ],
      "text/plain": [
       "                            name bloc  count\n",
       "0               Pernille Vermund    b    426\n",
       "1                 Pia Kjærsgaard    b    373\n",
       "2              Mette Frederiksen    r    291\n",
       "3                 liselott blixt    b    273\n",
       "4                 Pia Olsen Dyhr    r    240\n",
       "..                           ...  ...    ...\n",
       "123  Simon Emil Ammitzbøll Bille    b      4\n",
       "124                 Marie Krarup    b      2\n",
       "125     Kirsten Normann Andersen    r      2\n",
       "126                    Rune Lund    r      1\n",
       "127         aaja chemnitz larsen    r      1\n",
       "\n",
       "[128 rows x 3 columns]"
      ]
     },
     "execution_count": 43,
     "metadata": {},
     "output_type": "execute_result"
    }
   ],
   "source": [
    "user_list"
   ]
  },
  {
   "cell_type": "markdown",
   "id": "historical-alberta",
   "metadata": {},
   "source": [
    "look at top 30"
   ]
  },
  {
   "cell_type": "code",
   "execution_count": 44,
   "id": "7c8f27ea",
   "metadata": {},
   "outputs": [],
   "source": [
    "plt.rcParams.update({'font.size': 12})\n"
   ]
  },
  {
   "cell_type": "code",
   "execution_count": 45,
   "id": "arbitrary-carpet",
   "metadata": {
    "scrolled": true
   },
   "outputs": [
    {
     "data": {
      "image/png": "[encoded data removed]",
      "text/plain": [
       "<Figure size 360x360 with 1 Axes>"
      ]
     },
     "metadata": {
      "needs_background": "light"
     },
     "output_type": "display_data"
    }
   ],
   "source": [
    "\n",
    "#sns.displot(x=\"count\", hue=\"bloc\",data=user_list, palette = [\"b\",\"r\"],legend=\"\",bins = 5, alpha = 0.5)\n",
    "#plt.legend( loc='upper right', labels=['Rød blok', 'Blå blok'])\n",
    "#plt.savefig(\"plots\\\\dist_users_posts1.png\")\n",
    "#plt.figure(figsize=(12,8))\n",
    "\n",
    "sns.displot(x=\"count\", hue=\"bloc\",data=user_list,kind = \"kde\", palette = [\"b\",\"r\"],legend=\"\", alpha = 0.4, fill = True)\n",
    "plt.xlim(0,600)\n",
    "plt.legend( loc='upper right', labels=['Red block', 'Blue block'])\n",
    "sns.despine()\n",
    "#plt.title(\"Distribution of user activity in blocks\")\n",
    "plt.ylabel(\"Share\")\n",
    "plt.xlabel(\"Posts\")\n",
    "\n",
    "axs.spines['top'].set_visible(False)\n",
    "axs.spines['right'].set_visible(False)\n",
    "#plt.savefig(\"plots\\\\dist_users_posts2.png\",bbox_inches = \"tight\")\n",
    "\n",
    "\n",
    "plt.show()\n",
    "\n"
   ]
  },
  {
   "cell_type": "code",
   "execution_count": 46,
   "id": "enhanced-rating",
   "metadata": {},
   "outputs": [],
   "source": [
    "user_list = user_list.head(10)"
   ]
  },
  {
   "cell_type": "code",
   "execution_count": 47,
   "id": "worse-promotion",
   "metadata": {},
   "outputs": [
    {
     "data": {
      "text/plain": [
       "0       Pernille Vermund\n",
       "1         Pia Kjærsgaard\n",
       "2      Mette Frederiksen\n",
       "3         liselott blixt\n",
       "4         Pia Olsen Dyhr\n",
       "5    sofiecarstennielsen\n",
       "6            Astrid Krag\n",
       "7          Mette Thiesen\n",
       "8         Susanne Zimmer\n",
       "9            Ste?n Knuth\n",
       "Name: name, dtype: object"
      ]
     },
     "execution_count": 47,
     "metadata": {},
     "output_type": "execute_result"
    }
   ],
   "source": [
    "user_list['name']"
   ]
  },
  {
   "cell_type": "code",
   "execution_count": 48,
   "id": "frozen-given",
   "metadata": {},
   "outputs": [],
   "source": [
    "names = [\"Pernille Vermund\", \n",
    "         \"Pia Kjærsgaard\", \n",
    "         \"Mette Frederiksen\", \n",
    "         \"Liselott Blixt\", \n",
    "         \"Pia Olsen Dyhr\", \n",
    "         \"Sofie C. Nielsen\",\n",
    "         \"Astrid Krag\",\n",
    "         \"Mette Thiesen\",\n",
    "         \"Susanne Zimmer\",\n",
    "         \"Stén Knuth\"]"
   ]
  },
  {
   "cell_type": "code",
   "execution_count": 49,
   "id": "certified-campaign",
   "metadata": {},
   "outputs": [
    {
     "data": {
      "image/png": "[encoded data removed]",
      "text/plain": [
       "<Figure size 432x288 with 1 Axes>"
      ]
     },
     "metadata": {
      "needs_background": "light"
     },
     "output_type": "display_data"
    }
   ],
   "source": [
    "fig, axs = plt.subplots(figsize=(6,4))\n",
    "#plt.bar(user_list['name'], user_list['count'], color = user_list['bloc'], alpha = 0.8 )\n",
    "for n,name in enumerate(user_list['name']):\n",
    "    if user_list.loc[user_list['name'] == name,'bloc'][n] == \"b\":\n",
    "        plot_b = axs.bar(name,user_list.loc[user_list['name'] == name,'count'],  color = \"b\", alpha = 0.5, edgecolor = \"black\",label = \"Blue block\")\n",
    "    else:\n",
    "        plot_r = axs.bar(name,user_list.loc[user_list['name'] == name,'count'],  color = \"r\", alpha = 0.5,edgecolor = \"black\", label = \"Red block\")\n",
    "\n",
    "#plt.bar(user_list.loc[user_list['bloc'] == \"b\",'name'] ,user_list.loc[user_list['bloc'] == \"b\",'count'],  color = \"b\", alpha = 0.8, label = \"Blue block\")\n",
    "#plt.bar(user_list.loc[user_list['bloc'] == \"r\",'name'] ,user_list.loc[user_list['bloc'] == \"r\",'count'],  color = \"r\", alpha = 0.8, label = \"Red block\")\n",
    "#plt.title(\"Top 10 posters on Instagram\")\n",
    "plt.ylabel(\"Number of posts\")\n",
    "plt.xlabel(\"Politician\")\n",
    "plt.xlim(-0.5,9.5)\n",
    "axs.spines['top'].set_visible(False)\n",
    "axs.spines['right'].set_visible(False)\n",
    "#sns.barplot(x='name', y = \"count\",hue = 'bloc', data=user_list, alpha = 0.8) \n",
    "plt.legend([plot_b, plot_r],['Blue block', 'Red block'])\n",
    "plt.xticks([0,1,2,3,4,5,6,7,8,9],names,rotation = 90)\n",
    "#plt.savefig(\"plots\\\\10_most.png\",bbox_inches = \"tight\")\n",
    "\n",
    "plt.show()"
   ]
  },
  {
   "cell_type": "code",
   "execution_count": null,
   "id": "junior-rainbow",
   "metadata": {},
   "outputs": [],
   "source": []
  },
  {
   "cell_type": "markdown",
   "id": "ruled-valuable",
   "metadata": {},
   "source": [
    "look at the dist of the users"
   ]
  },
  {
   "cell_type": "code",
   "execution_count": 50,
   "id": "mighty-candidate",
   "metadata": {},
   "outputs": [],
   "source": [
    "dataset['n_women'] = [int(float(w)) for w in dataset['n_women']]\n",
    "dataset['n_people'] = [int(float(w)) for w in dataset['n_people']]"
   ]
  },
  {
   "cell_type": "code",
   "execution_count": 51,
   "id": "minus-thursday",
   "metadata": {},
   "outputs": [
    {
     "data": {
      "image/png": "[encoded data removed]",
      "text/plain": [
       "<Figure size 345.6x432 with 1 Axes>"
      ]
     },
     "metadata": {
      "needs_background": "light"
     },
     "output_type": "display_data"
    }
   ],
   "source": [
    "plt.rcParams.update({'font.size': 12})\n",
    "bars = sns.catplot(x='n_people', kind='count', data=dataset, alpha = 0.8,edgecolor = \"black\", palette=\"Blues_r\",height=6, aspect=0.8)\n",
    "#plt.annotate(sum(dataset['bloc']==\"r\"),(0,5500), ha='center')\n",
    "#plt.annotate(sum(dataset['bloc']==\"b\"),(1,5100), ha='center')\n",
    "\n",
    "#plt.figure(figsize=(12, 8)) \n",
    "\n",
    "plt.xlabel(\"Number of people in images\")\n",
    "plt.ylabel(\"Number of posts\")\n",
    "#plt.xticks([0,1],[\"Rød blok\",\"Blå blok\"])\n",
    "#plt.title(\"number of people in images\")\n",
    "plt.xlim(-0.5,9.5)\n",
    "plt.xticks([0,1,2,3,4,5,6,7,8,9],[0,1,2,3,4,5,6,7,8,9])\n",
    "\n",
    "#plt.savefig(\"plots\\\\people_in_posts.png\",bbox_inches = \"tight\")\n",
    "\n",
    "plt.show()"
   ]
  },
  {
   "cell_type": "code",
   "execution_count": null,
   "id": "above-tobacco",
   "metadata": {},
   "outputs": [],
   "source": []
  },
  {
   "cell_type": "code",
   "execution_count": null,
   "id": "defensive-service",
   "metadata": {},
   "outputs": [],
   "source": []
  }
 ],
 "metadata": {
  "kernelspec": {
   "display_name": "Python 3 (ipykernel)",
   "language": "python",
   "name": "python3"
  },
  "language_info": {
   "codemirror_mode": {
    "name": "ipython",
    "version": 3
   },
   "file_extension": ".py",
   "mimetype": "text/x-python",
   "name": "python",
   "nbconvert_exporter": "python",
   "pygments_lexer": "ipython3",
   "version": "3.8.11"
  }
 },
 "nbformat": 4,
 "nbformat_minor": 5
}
