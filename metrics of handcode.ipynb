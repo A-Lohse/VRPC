{
 "cells": [
  {
   "cell_type": "markdown",
   "id": "c49096b6",
   "metadata": {},
   "source": [
    "# This script calculates the metrics for the hancode vs. the model on the sampled images"
   ]
  },
  {
   "cell_type": "code",
   "execution_count": 1,
   "id": "6c7295c9",
   "metadata": {},
   "outputs": [],
   "source": [
    "from sklearn import metrics\n",
    "import pandas as pd"
   ]
  },
  {
   "cell_type": "code",
   "execution_count": 2,
   "id": "cbf8c274",
   "metadata": {},
   "outputs": [],
   "source": [
    "df1 = pd.read_excel('handcode/n_people_autocode_1.xlsx')"
   ]
  },
  {
   "cell_type": "code",
   "execution_count": 3,
   "id": "c8eda856",
   "metadata": {},
   "outputs": [],
   "source": [
    "df2 = pd.read_excel('handcode/n_people_autocode_2.xlsx')"
   ]
  },
  {
   "cell_type": "markdown",
   "id": "f44854f8",
   "metadata": {},
   "source": [
    "The accuracy of the manual coders"
   ]
  },
  {
   "cell_type": "code",
   "execution_count": 4,
   "id": "4676ea99",
   "metadata": {
    "scrolled": false
   },
   "outputs": [
    {
     "data": {
      "text/plain": [
       "0.877"
      ]
     },
     "execution_count": 4,
     "metadata": {},
     "output_type": "execute_result"
    }
   ],
   "source": [
    "metrics.accuracy_score(df1.handcode, df2.handcode)"
   ]
  },
  {
   "cell_type": "code",
   "execution_count": 5,
   "id": "ce0a50a8",
   "metadata": {},
   "outputs": [
    {
     "data": {
      "text/plain": [
       "1.019"
      ]
     },
     "execution_count": 5,
     "metadata": {},
     "output_type": "execute_result"
    }
   ],
   "source": [
    "metrics.mean_squared_error(df1.handcode, df2.handcode)"
   ]
  },
  {
   "cell_type": "markdown",
   "id": "195872c9",
   "metadata": {},
   "source": [
    "On average they diverge by 1 person."
   ]
  },
  {
   "cell_type": "markdown",
   "id": "a7445dc5",
   "metadata": {},
   "source": [
    "Creating a dataset of the rows where the amount of people is the same"
   ]
  },
  {
   "cell_type": "code",
   "execution_count": 6,
   "id": "cf21f4ce",
   "metadata": {},
   "outputs": [],
   "source": [
    "df_validated = df1[df1.handcode == df2.handcode]"
   ]
  },
  {
   "cell_type": "code",
   "execution_count": 7,
   "id": "e6e24567",
   "metadata": {},
   "outputs": [
    {
     "data": {
      "text/plain": [
       "877"
      ]
     },
     "execution_count": 7,
     "metadata": {},
     "output_type": "execute_result"
    }
   ],
   "source": [
    "len(df_validated)"
   ]
  },
  {
   "cell_type": "code",
   "execution_count": 8,
   "id": "c9688e88",
   "metadata": {},
   "outputs": [
    {
     "data": {
      "text/plain": [
       "0.9053591790193842"
      ]
     },
     "execution_count": 8,
     "metadata": {},
     "output_type": "execute_result"
    }
   ],
   "source": [
    "metrics.accuracy_score(df_validated.auto_people, df_validated.handcode)"
   ]
  },
  {
   "cell_type": "code",
   "execution_count": 9,
   "id": "c233979e",
   "metadata": {
    "scrolled": true
   },
   "outputs": [
    {
     "data": {
      "text/plain": [
       "0.556442417331813"
      ]
     },
     "execution_count": 9,
     "metadata": {},
     "output_type": "execute_result"
    }
   ],
   "source": [
    "metrics.mean_squared_error(df_validated.auto_people, df_validated.handcode)"
   ]
  },
  {
   "cell_type": "markdown",
   "id": "d5f91d86",
   "metadata": {},
   "source": [
    "Reading in the gender handcode"
   ]
  },
  {
   "cell_type": "code",
   "execution_count": 10,
   "id": "2ca78143",
   "metadata": {},
   "outputs": [],
   "source": [
    "gender1 = pd.read_excel('handcode/gender_autocode_1.xlsx')\n",
    "gender2 = pd.read_excel('handcode/gender_autocode_2.xlsx')"
   ]
  },
  {
   "cell_type": "markdown",
   "id": "c25bbc1a",
   "metadata": {},
   "source": [
    "Coder 1 did not always use the same catagoris, and said that two images were missing. "
   ]
  },
  {
   "cell_type": "code",
   "execution_count": 11,
   "id": "daf01a5a",
   "metadata": {
    "scrolled": true
   },
   "outputs": [],
   "source": [
    "gender1.loc[gender1.handcode == 'MANGLER', 'handcode'] = 'NAF'\n",
    "gender1.loc[gender1.handcode.isna(), 'handcode'] = 'NAF'\n",
    "gender1.loc[gender1.handcode == 'Women', 'handcode'] = 'Woman'"
   ]
  },
  {
   "cell_type": "markdown",
   "id": "ce574e5b",
   "metadata": {},
   "source": [
    "How consiten are they"
   ]
  },
  {
   "cell_type": "code",
   "execution_count": 12,
   "id": "2cef3a74",
   "metadata": {},
   "outputs": [
    {
     "data": {
      "text/plain": [
       "0.965"
      ]
     },
     "execution_count": 12,
     "metadata": {},
     "output_type": "execute_result"
    }
   ],
   "source": [
    "sum(gender1.handcode == gender2.handcode) /1000 #accuracy with 3 catagories calculated manually becasue it is easiere "
   ]
  },
  {
   "cell_type": "markdown",
   "id": "9c817f7e",
   "metadata": {},
   "source": [
    "Creating the validated dataset"
   ]
  },
  {
   "cell_type": "code",
   "execution_count": 13,
   "id": "202cb779",
   "metadata": {},
   "outputs": [],
   "source": [
    "df_validated = gender1[gender1.handcode == gender2.handcode]"
   ]
  },
  {
   "cell_type": "code",
   "execution_count": 14,
   "id": "3dc4fb2b",
   "metadata": {},
   "outputs": [
    {
     "name": "stdout",
     "output_type": "stream",
     "text": [
      "The model found  29 faces which were not faces out of  965 validated images. Givin a false positive of  0.03\n"
     ]
    }
   ],
   "source": [
    "print(\"The model found \", len(df_validated[df_validated.handcode == 'NAF']), 'faces which were not faces out of ',\n",
    "      len(df_validated), \"validated images. Givin a false positive of \",\n",
    "      round(len(df_validated[df_validated.handcode == 'NAF']) / len(df_validated),2) )"
   ]
  },
  {
   "cell_type": "code",
   "execution_count": 15,
   "id": "8ec40a07",
   "metadata": {},
   "outputs": [],
   "source": [
    "df_validated = df_validated[df_validated.handcode != 'NAF']\n",
    "df_validated.reset_index(inplace = True, drop = True)"
   ]
  },
  {
   "cell_type": "code",
   "execution_count": 16,
   "id": "7ed3a6f5",
   "metadata": {},
   "outputs": [],
   "source": [
    "gender_dict = {'Woman':1,\n",
    "              'Man': 0}\n",
    "#b = [gender_dict[df_validated.loc[i, 'handcode']] for i in range(len(df_validated))]\n",
    "df_validated.auto_gender = [gender_dict[df_validated.loc[i, 'auto_gender']] for i in range(len(df_validated))]\n",
    "df_validated.handcode = [gender_dict[df_validated.loc[i, 'handcode']] for i in range(len(df_validated))]"
   ]
  },
  {
   "cell_type": "code",
   "execution_count": 17,
   "id": "ee00f5de",
   "metadata": {},
   "outputs": [
    {
     "data": {
      "text/plain": [
       "936"
      ]
     },
     "execution_count": 17,
     "metadata": {},
     "output_type": "execute_result"
    }
   ],
   "source": [
    "len(df_validated)"
   ]
  },
  {
   "cell_type": "code",
   "execution_count": 18,
   "id": "987f669d",
   "metadata": {},
   "outputs": [
    {
     "data": {
      "text/plain": [
       "0.8301282051282052"
      ]
     },
     "execution_count": 18,
     "metadata": {},
     "output_type": "execute_result"
    }
   ],
   "source": [
    "metrics.accuracy_score(df_validated.auto_gender, df_validated.handcode)"
   ]
  },
  {
   "cell_type": "code",
   "execution_count": 19,
   "id": "4fb88da2",
   "metadata": {},
   "outputs": [
    {
     "data": {
      "text/plain": [
       "0.858139534883721"
      ]
     },
     "execution_count": 19,
     "metadata": {},
     "output_type": "execute_result"
    }
   ],
   "source": [
    "metrics.recall_score(df_validated.auto_gender, df_validated.handcode)"
   ]
  },
  {
   "cell_type": "code",
   "execution_count": 20,
   "id": "6efbbfa4",
   "metadata": {},
   "outputs": [
    {
     "data": {
      "text/html": [
       "<div>\n",
       "<style scoped>\n",
       "    .dataframe tbody tr th:only-of-type {\n",
       "        vertical-align: middle;\n",
       "    }\n",
       "\n",
       "    .dataframe tbody tr th {\n",
       "        vertical-align: top;\n",
       "    }\n",
       "\n",
       "    .dataframe thead th {\n",
       "        text-align: right;\n",
       "    }\n",
       "</style>\n",
       "<table border=\"1\" class=\"dataframe\">\n",
       "  <thead>\n",
       "    <tr style=\"text-align: right;\">\n",
       "      <th></th>\n",
       "      <th>Unnamed: 0</th>\n",
       "      <th>random_face_number</th>\n",
       "      <th>image_name</th>\n",
       "      <th>face_tensor</th>\n",
       "      <th>auto_gender</th>\n",
       "      <th>handcode</th>\n",
       "    </tr>\n",
       "  </thead>\n",
       "  <tbody>\n",
       "    <tr>\n",
       "      <th>0</th>\n",
       "      <td>1</td>\n",
       "      <td>1</td>\n",
       "      <td>posts\\ullatornaes\\pic_58.jpeg</td>\n",
       "      <td>tensor([408.2204,   6.2747, 439.5296,  50.9748])</td>\n",
       "      <td>0</td>\n",
       "      <td>0</td>\n",
       "    </tr>\n",
       "    <tr>\n",
       "      <th>1</th>\n",
       "      <td>2</td>\n",
       "      <td>2</td>\n",
       "      <td>posts\\susannezimmerfriegronne\\pic_143.jpeg</td>\n",
       "      <td>tensor([292.6525, 291.8512, 331.4240, 342.0738])</td>\n",
       "      <td>1</td>\n",
       "      <td>1</td>\n",
       "    </tr>\n",
       "    <tr>\n",
       "      <th>2</th>\n",
       "      <td>3</td>\n",
       "      <td>3</td>\n",
       "      <td>posts\\susannezimmerfriegronne\\pic_143.jpeg</td>\n",
       "      <td>tensor([ 39.6454, 232.8243,  86.8426, 287.4897])</td>\n",
       "      <td>1</td>\n",
       "      <td>1</td>\n",
       "    </tr>\n",
       "    <tr>\n",
       "      <th>3</th>\n",
       "      <td>4</td>\n",
       "      <td>4</td>\n",
       "      <td>posts\\susannezimmerfriegronne\\pic_143.jpeg</td>\n",
       "      <td>tensor([504.1330, 307.5060, 539.2911, 354.8126])</td>\n",
       "      <td>0</td>\n",
       "      <td>0</td>\n",
       "    </tr>\n",
       "    <tr>\n",
       "      <th>4</th>\n",
       "      <td>5</td>\n",
       "      <td>5</td>\n",
       "      <td>posts\\susannezimmerfriegronne\\pic_143.jpeg</td>\n",
       "      <td>tensor([ 73.8721, 152.0673, 103.0312, 187.1326])</td>\n",
       "      <td>1</td>\n",
       "      <td>1</td>\n",
       "    </tr>\n",
       "    <tr>\n",
       "      <th>...</th>\n",
       "      <td>...</td>\n",
       "      <td>...</td>\n",
       "      <td>...</td>\n",
       "      <td>...</td>\n",
       "      <td>...</td>\n",
       "      <td>...</td>\n",
       "    </tr>\n",
       "    <tr>\n",
       "      <th>931</th>\n",
       "      <td>995</td>\n",
       "      <td>995</td>\n",
       "      <td>posts\\kaaredybvad\\pic_27.jpeg</td>\n",
       "      <td>tensor([184.7414, 124.2967, 219.2052, 164.7777])</td>\n",
       "      <td>0</td>\n",
       "      <td>0</td>\n",
       "    </tr>\n",
       "    <tr>\n",
       "      <th>932</th>\n",
       "      <td>996</td>\n",
       "      <td>996</td>\n",
       "      <td>posts\\kaaredybvad\\pic_27.jpeg</td>\n",
       "      <td>tensor([345.2533, 180.3562, 372.6842, 213.0734])</td>\n",
       "      <td>1</td>\n",
       "      <td>1</td>\n",
       "    </tr>\n",
       "    <tr>\n",
       "      <th>933</th>\n",
       "      <td>997</td>\n",
       "      <td>997</td>\n",
       "      <td>posts\\kaaredybvad\\pic_27.jpeg</td>\n",
       "      <td>tensor([  1.9734, 139.6313,  25.1866, 190.3149])</td>\n",
       "      <td>0</td>\n",
       "      <td>1</td>\n",
       "    </tr>\n",
       "    <tr>\n",
       "      <th>934</th>\n",
       "      <td>998</td>\n",
       "      <td>998</td>\n",
       "      <td>posts\\katarinaammitzboell\\pic_100.jpeg</td>\n",
       "      <td>tensor([224.1817,  71.9618, 303.5226, 178.3400])</td>\n",
       "      <td>1</td>\n",
       "      <td>1</td>\n",
       "    </tr>\n",
       "    <tr>\n",
       "      <th>935</th>\n",
       "      <td>999</td>\n",
       "      <td>999</td>\n",
       "      <td>posts\\katarinaammitzboell\\pic_100.jpeg</td>\n",
       "      <td>tensor([342.8258,   1.3960, 423.4669, 106.0224])</td>\n",
       "      <td>0</td>\n",
       "      <td>0</td>\n",
       "    </tr>\n",
       "  </tbody>\n",
       "</table>\n",
       "<p>936 rows × 6 columns</p>\n",
       "</div>"
      ],
      "text/plain": [
       "     Unnamed: 0  random_face_number  \\\n",
       "0             1                   1   \n",
       "1             2                   2   \n",
       "2             3                   3   \n",
       "3             4                   4   \n",
       "4             5                   5   \n",
       "..          ...                 ...   \n",
       "931         995                 995   \n",
       "932         996                 996   \n",
       "933         997                 997   \n",
       "934         998                 998   \n",
       "935         999                 999   \n",
       "\n",
       "                                     image_name  \\\n",
       "0                 posts\\ullatornaes\\pic_58.jpeg   \n",
       "1    posts\\susannezimmerfriegronne\\pic_143.jpeg   \n",
       "2    posts\\susannezimmerfriegronne\\pic_143.jpeg   \n",
       "3    posts\\susannezimmerfriegronne\\pic_143.jpeg   \n",
       "4    posts\\susannezimmerfriegronne\\pic_143.jpeg   \n",
       "..                                          ...   \n",
       "931               posts\\kaaredybvad\\pic_27.jpeg   \n",
       "932               posts\\kaaredybvad\\pic_27.jpeg   \n",
       "933               posts\\kaaredybvad\\pic_27.jpeg   \n",
       "934      posts\\katarinaammitzboell\\pic_100.jpeg   \n",
       "935      posts\\katarinaammitzboell\\pic_100.jpeg   \n",
       "\n",
       "                                          face_tensor  auto_gender  handcode  \n",
       "0    tensor([408.2204,   6.2747, 439.5296,  50.9748])            0         0  \n",
       "1    tensor([292.6525, 291.8512, 331.4240, 342.0738])            1         1  \n",
       "2    tensor([ 39.6454, 232.8243,  86.8426, 287.4897])            1         1  \n",
       "3    tensor([504.1330, 307.5060, 539.2911, 354.8126])            0         0  \n",
       "4    tensor([ 73.8721, 152.0673, 103.0312, 187.1326])            1         1  \n",
       "..                                                ...          ...       ...  \n",
       "931  tensor([184.7414, 124.2967, 219.2052, 164.7777])            0         0  \n",
       "932  tensor([345.2533, 180.3562, 372.6842, 213.0734])            1         1  \n",
       "933  tensor([  1.9734, 139.6313,  25.1866, 190.3149])            0         1  \n",
       "934  tensor([224.1817,  71.9618, 303.5226, 178.3400])            1         1  \n",
       "935  tensor([342.8258,   1.3960, 423.4669, 106.0224])            0         0  \n",
       "\n",
       "[936 rows x 6 columns]"
      ]
     },
     "execution_count": 20,
     "metadata": {},
     "output_type": "execute_result"
    }
   ],
   "source": [
    "df_validated"
   ]
  },
  {
   "cell_type": "code",
   "execution_count": null,
   "id": "b8ea8ea5",
   "metadata": {},
   "outputs": [],
   "source": []
  }
 ],
 "metadata": {
  "kernelspec": {
   "display_name": "Python 3 (ipykernel)",
   "language": "python",
   "name": "python3"
  },
  "language_info": {
   "codemirror_mode": {
    "name": "ipython",
    "version": 3
   },
   "file_extension": ".py",
   "mimetype": "text/x-python",
   "name": "python",
   "nbconvert_exporter": "python",
   "pygments_lexer": "ipython3",
   "version": "3.8.11"
  }
 },
 "nbformat": 4,
 "nbformat_minor": 5
}
