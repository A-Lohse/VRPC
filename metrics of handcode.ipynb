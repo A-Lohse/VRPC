{
 "cells": [
  {
   "cell_type": "markdown",
   "id": "c49096b6",
   "metadata": {},
   "source": [
    "# This script calculates the metrics for the hancode vs. the model on the sampled images"
   ]
  },
  {
   "cell_type": "code",
   "execution_count": 28,
   "id": "6c7295c9",
   "metadata": {},
   "outputs": [],
   "source": [
    "from sklearn import metrics\n",
    "import pandas as pd"
   ]
  },
  {
   "cell_type": "code",
   "execution_count": 29,
   "id": "cbf8c274",
   "metadata": {},
   "outputs": [],
   "source": [
    "df1 = pd.read_excel('handcode/n_people_autocode_1.xlsx')"
   ]
  },
  {
   "cell_type": "code",
   "execution_count": 30,
   "id": "c8eda856",
   "metadata": {},
   "outputs": [],
   "source": [
    "df2 = pd.read_excel('handcode/n_people_autocode_2.xlsx')"
   ]
  },
  {
   "cell_type": "markdown",
   "id": "f44854f8",
   "metadata": {},
   "source": [
    "The accuracy of the manual coders"
   ]
  },
  {
   "cell_type": "code",
   "execution_count": 31,
   "id": "4676ea99",
   "metadata": {
    "scrolled": false
   },
   "outputs": [
    {
     "data": {
      "text/plain": [
       "0.877"
      ]
     },
     "execution_count": 31,
     "metadata": {},
     "output_type": "execute_result"
    }
   ],
   "source": [
    "metrics.accuracy_score(df1.handcode, df2.handcode)"
   ]
  },
  {
   "cell_type": "code",
   "execution_count": 32,
   "id": "ce0a50a8",
   "metadata": {},
   "outputs": [
    {
     "data": {
      "text/plain": [
       "1.019"
      ]
     },
     "execution_count": 32,
     "metadata": {},
     "output_type": "execute_result"
    }
   ],
   "source": [
    "metrics.mean_squared_error(df1.handcode, df2.handcode)"
   ]
  },
  {
   "cell_type": "markdown",
   "id": "195872c9",
   "metadata": {},
   "source": [
    "On average they diverge by 1 person."
   ]
  },
  {
   "cell_type": "markdown",
   "id": "a7445dc5",
   "metadata": {},
   "source": [
    "Creating a dataset of the rows where the amount of people is the same"
   ]
  },
  {
   "cell_type": "code",
   "execution_count": 33,
   "id": "cf21f4ce",
   "metadata": {},
   "outputs": [],
   "source": [
    "df_validated = df1[df1.handcode == df2.handcode]"
   ]
  },
  {
   "cell_type": "code",
   "execution_count": 34,
   "id": "e6e24567",
   "metadata": {},
   "outputs": [
    {
     "data": {
      "text/plain": [
       "877"
      ]
     },
     "execution_count": 34,
     "metadata": {},
     "output_type": "execute_result"
    }
   ],
   "source": [
    "len(df_validated)"
   ]
  },
  {
   "cell_type": "code",
   "execution_count": 35,
   "id": "c9688e88",
   "metadata": {},
   "outputs": [
    {
     "data": {
      "text/plain": [
       "0.9053591790193842"
      ]
     },
     "execution_count": 35,
     "metadata": {},
     "output_type": "execute_result"
    }
   ],
   "source": [
    "metrics.accuracy_score(df_validated.auto_people, df_validated.handcode)"
   ]
  },
  {
   "cell_type": "code",
   "execution_count": 36,
   "id": "c233979e",
   "metadata": {
    "scrolled": true
   },
   "outputs": [
    {
     "data": {
      "text/plain": [
       "0.556442417331813"
      ]
     },
     "execution_count": 36,
     "metadata": {},
     "output_type": "execute_result"
    }
   ],
   "source": [
    "metrics.mean_squared_error(df_validated.auto_people, df_validated.handcode)"
   ]
  },
  {
   "cell_type": "markdown",
   "id": "d5f91d86",
   "metadata": {},
   "source": [
    "Reading in the gender handcode"
   ]
  },
  {
   "cell_type": "code",
   "execution_count": 50,
   "id": "2ca78143",
   "metadata": {},
   "outputs": [],
   "source": [
    "gender1 = pd.read_excel('handcode/gender_autocode_1.xlsx')\n",
    "gender2 = pd.read_excel('handcode/gender_autocode_2.xlsx')"
   ]
  },
  {
   "cell_type": "markdown",
   "id": "c25bbc1a",
   "metadata": {},
   "source": [
    "Coder 1 did not always use the same catagoris, and said that two images were missing. "
   ]
  },
  {
   "cell_type": "code",
   "execution_count": 51,
   "id": "daf01a5a",
   "metadata": {
    "scrolled": true
   },
   "outputs": [],
   "source": [
    "gender1.loc[gender1.handcode == 'MANGLER', 'handcode'] = 'NAF'\n",
    "gender1.loc[gender1.handcode.isna(), 'handcode'] = 'NAF'\n",
    "gender1.loc[gender1.handcode == 'Women', 'handcode'] = 'Woman'"
   ]
  },
  {
   "cell_type": "markdown",
   "id": "ce574e5b",
   "metadata": {},
   "source": [
    "How consiten are they"
   ]
  },
  {
   "cell_type": "code",
   "execution_count": 52,
   "id": "2cef3a74",
   "metadata": {},
   "outputs": [
    {
     "data": {
      "text/plain": [
       "0.965"
      ]
     },
     "execution_count": 52,
     "metadata": {},
     "output_type": "execute_result"
    }
   ],
   "source": [
    "sum(gender1.handcode == gender2.handcode) /1000 #accuracy with 3 catagories calculated manually becasue it is easiere "
   ]
  },
  {
   "cell_type": "markdown",
   "id": "9c817f7e",
   "metadata": {},
   "source": [
    "Creating the validated dataset"
   ]
  },
  {
   "cell_type": "code",
   "execution_count": 53,
   "id": "202cb779",
   "metadata": {},
   "outputs": [],
   "source": [
    "df_validated = gender1[gender1.handcode == gender2.handcode]"
   ]
  },
  {
   "cell_type": "code",
   "execution_count": 54,
   "id": "3dc4fb2b",
   "metadata": {},
   "outputs": [
    {
     "name": "stdout",
     "output_type": "stream",
     "text": [
      "The model found  29 faces which were not faces out of  965 validated images. Givin a false positive of  0.03\n"
     ]
    }
   ],
   "source": [
    "print(\"The model found \", len(df_validated[df_validated.handcode == 'NAF']), 'faces which were not faces out of ',\n",
    "      len(df_validated), \"validated images. Givin a false positive of \",\n",
    "      round(len(df_validated[df_validated.handcode == 'NAF']) / len(df_validated),2) )"
   ]
  },
  {
   "cell_type": "code",
   "execution_count": 55,
   "id": "8ec40a07",
   "metadata": {},
   "outputs": [],
   "source": [
    "df_validated = df_validated[df_validated.handcode != 'NAF']\n",
    "df_validated.reset_index(inplace = True, drop = True)"
   ]
  },
  {
   "cell_type": "code",
   "execution_count": 56,
   "id": "7ed3a6f5",
   "metadata": {},
   "outputs": [],
   "source": [
    "gender_dict = {'Woman':1,\n",
    "              'Man': 0}\n",
    "b = [gender_dict[df_validated.loc[i, 'handcode']] for i in range(len(df_validated))]\n",
    "df_validated.auto_gender = [gender_dict[df_validated.loc[i, 'auto_gender']] for i in range(len(df_validated))]"
   ]
  },
  {
   "cell_type": "code",
   "execution_count": 57,
   "id": "ee00f5de",
   "metadata": {},
   "outputs": [
    {
     "data": {
      "text/plain": [
       "936"
      ]
     },
     "execution_count": 57,
     "metadata": {},
     "output_type": "execute_result"
    }
   ],
   "source": [
    "len(df_validated)"
   ]
  },
  {
   "cell_type": "code",
   "execution_count": 58,
   "id": "987f669d",
   "metadata": {},
   "outputs": [
    {
     "data": {
      "text/plain": [
       "0.8301282051282052"
      ]
     },
     "execution_count": 58,
     "metadata": {},
     "output_type": "execute_result"
    }
   ],
   "source": [
    "metrics.accuracy_score(df_validated.auto_gender, df_validated.handcode)"
   ]
  },
  {
   "cell_type": "code",
   "execution_count": 59,
   "id": "4fb88da2",
   "metadata": {},
   "outputs": [
    {
     "data": {
      "text/plain": [
       "0.858139534883721"
      ]
     },
     "execution_count": 59,
     "metadata": {},
     "output_type": "execute_result"
    }
   ],
   "source": [
    "metrics.recall_score(df_validated.auto_gender, df_validated.handcode)"
   ]
  },
  {
   "cell_type": "code",
   "execution_count": null,
   "id": "6efbbfa4",
   "metadata": {},
   "outputs": [],
   "source": []
  }
 ],
 "metadata": {
  "kernelspec": {
   "display_name": "Python 3 (ipykernel)",
   "language": "python",
   "name": "python3"
  },
  "language_info": {
   "codemirror_mode": {
    "name": "ipython",
    "version": 3
   },
   "file_extension": ".py",
   "mimetype": "text/x-python",
   "name": "python",
   "nbconvert_exporter": "python",
   "pygments_lexer": "ipython3",
   "version": "3.8.11"
  }
 },
 "nbformat": 4,
 "nbformat_minor": 5
}
